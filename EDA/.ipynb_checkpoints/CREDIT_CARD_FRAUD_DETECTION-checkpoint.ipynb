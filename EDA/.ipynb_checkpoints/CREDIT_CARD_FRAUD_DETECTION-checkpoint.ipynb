{
 "cells": [
  {
   "cell_type": "code",
   "execution_count": null,
   "metadata": {
    "id": "fwORLuNYqnh1"
   },
   "outputs": [],
   "source": [
    "import pandas as pd\n",
    "import numpy as np\n",
    "import seaborn as sns\n",
    "import matplotlib.pyplot as plt\n",
    "%matplotlib inline"
   ]
  },
  {
   "cell_type": "code",
   "execution_count": null,
   "metadata": {
    "id": "pRvn8Q2aqolc"
   },
   "outputs": [],
   "source": [
    "df=pd.read_csv(\"UCI_Credit_Card.csv\")"
   ]
  },
  {
   "cell_type": "code",
   "execution_count": null,
   "metadata": {
    "colab": {
     "base_uri": "https://localhost:8080/",
     "height": 100
    },
    "id": "0wAepzccAxWJ",
    "outputId": "ede2a804-e0dd-4c18-c5d1-9c315a60a0ff"
   },
   "outputs": [
    {
     "data": {
      "text/html": [
       "<div>\n",
       "<style scoped>\n",
       "    .dataframe tbody tr th:only-of-type {\n",
       "        vertical-align: middle;\n",
       "    }\n",
       "\n",
       "    .dataframe tbody tr th {\n",
       "        vertical-align: top;\n",
       "    }\n",
       "\n",
       "    .dataframe thead th {\n",
       "        text-align: right;\n",
       "    }\n",
       "</style>\n",
       "<table border=\"1\" class=\"dataframe\">\n",
       "  <thead>\n",
       "    <tr style=\"text-align: right;\">\n",
       "      <th></th>\n",
       "      <th>LIMIT_BAL</th>\n",
       "      <th>SEX</th>\n",
       "      <th>EDUCATION</th>\n",
       "      <th>MARRIAGE</th>\n",
       "      <th>AGE</th>\n",
       "      <th>PAY_0</th>\n",
       "      <th>PAY_2</th>\n",
       "      <th>PAY_3</th>\n",
       "      <th>PAY_4</th>\n",
       "      <th>PAY_5</th>\n",
       "      <th>PAY_6</th>\n",
       "      <th>BILL_AMT1</th>\n",
       "      <th>BILL_AMT2</th>\n",
       "      <th>BILL_AMT3</th>\n",
       "      <th>BILL_AMT4</th>\n",
       "      <th>BILL_AMT5</th>\n",
       "      <th>BILL_AMT6</th>\n",
       "      <th>PAY_AMT1</th>\n",
       "      <th>PAY_AMT2</th>\n",
       "      <th>PAY_AMT3</th>\n",
       "      <th>PAY_AMT4</th>\n",
       "      <th>PAY_AMT5</th>\n",
       "      <th>PAY_AMT6</th>\n",
       "    </tr>\n",
       "  </thead>\n",
       "  <tbody>\n",
       "    <tr>\n",
       "      <th>0</th>\n",
       "      <td>20000.0</td>\n",
       "      <td>2</td>\n",
       "      <td>2</td>\n",
       "      <td>1</td>\n",
       "      <td>24</td>\n",
       "      <td>2</td>\n",
       "      <td>2</td>\n",
       "      <td>-1</td>\n",
       "      <td>-1</td>\n",
       "      <td>-2</td>\n",
       "      <td>-2</td>\n",
       "      <td>3913.0</td>\n",
       "      <td>3102.0</td>\n",
       "      <td>689.0</td>\n",
       "      <td>0.0</td>\n",
       "      <td>0.0</td>\n",
       "      <td>0.0</td>\n",
       "      <td>0.0</td>\n",
       "      <td>689.0</td>\n",
       "      <td>0.0</td>\n",
       "      <td>0.0</td>\n",
       "      <td>0.0</td>\n",
       "      <td>0.0</td>\n",
       "    </tr>\n",
       "  </tbody>\n",
       "</table>\n",
       "</div>"
      ],
      "text/plain": [
       "   LIMIT_BAL  SEX  EDUCATION  MARRIAGE  ...  PAY_AMT3  PAY_AMT4  PAY_AMT5  PAY_AMT6\n",
       "0    20000.0    2          2         1  ...       0.0       0.0       0.0       0.0\n",
       "\n",
       "[1 rows x 23 columns]"
      ]
     },
     "execution_count": 50,
     "metadata": {
      "tags": []
     },
     "output_type": "execute_result"
    }
   ],
   "source": [
    "df.iloc[:1,1:-1]"
   ]
  },
  {
   "cell_type": "code",
   "execution_count": null,
   "metadata": {
    "colab": {
     "base_uri": "https://localhost:8080/"
    },
    "id": "lW1tRvDYqoo6",
    "outputId": "5a09d648-01d2-4945-b881-9526ff8a0c60"
   },
   "outputs": [
    {
     "data": {
      "text/plain": [
       "(30000, 25)"
      ]
     },
     "execution_count": 51,
     "metadata": {
      "tags": []
     },
     "output_type": "execute_result"
    }
   ],
   "source": [
    "df.shape"
   ]
  },
  {
   "cell_type": "code",
   "execution_count": null,
   "metadata": {
    "colab": {
     "base_uri": "https://localhost:8080/"
    },
    "id": "h84bjqTEqosG",
    "outputId": "3d356974-17be-40ea-a887-304cd38eb524"
   },
   "outputs": [
    {
     "data": {
      "text/plain": [
       "ID                            0\n",
       "LIMIT_BAL                     0\n",
       "SEX                           0\n",
       "EDUCATION                     0\n",
       "MARRIAGE                      0\n",
       "AGE                           0\n",
       "PAY_0                         0\n",
       "PAY_2                         0\n",
       "PAY_3                         0\n",
       "PAY_4                         0\n",
       "PAY_5                         0\n",
       "PAY_6                         0\n",
       "BILL_AMT1                     0\n",
       "BILL_AMT2                     0\n",
       "BILL_AMT3                     0\n",
       "BILL_AMT4                     0\n",
       "BILL_AMT5                     0\n",
       "BILL_AMT6                     0\n",
       "PAY_AMT1                      0\n",
       "PAY_AMT2                      0\n",
       "PAY_AMT3                      0\n",
       "PAY_AMT4                      0\n",
       "PAY_AMT5                      0\n",
       "PAY_AMT6                      0\n",
       "default.payment.next.month    0\n",
       "dtype: int64"
      ]
     },
     "execution_count": 52,
     "metadata": {
      "tags": []
     },
     "output_type": "execute_result"
    }
   ],
   "source": [
    "df.isna().sum()"
   ]
  },
  {
   "cell_type": "code",
   "execution_count": null,
   "metadata": {
    "colab": {
     "base_uri": "https://localhost:8080/",
     "height": 746
    },
    "id": "ZbCHbu-p1zr6",
    "outputId": "7155bc82-dfd7-442b-efe6-5c0c7745bdd1"
   },
   "outputs": [
    {
     "data": {
      "text/plain": [
       "<matplotlib.axes._subplots.AxesSubplot at 0x7fd7f8b46690>"
      ]
     },
     "execution_count": 123,
     "metadata": {
      "tags": []
     },
     "output_type": "execute_result"
    },
    {
     "data": {
      "image/png": "[encoded data removed]",
      "text/plain": [
       "<Figure size 1080x720 with 2 Axes>"
      ]
     },
     "metadata": {
      "needs_background": "light",
      "tags": []
     },
     "output_type": "display_data"
    }
   ],
   "source": [
    "plt.figure(figsize=(15,10))\n",
    "sns.heatmap(df.corr(),annot=True)"
   ]
  },
  {
   "cell_type": "code",
   "execution_count": null,
   "metadata": {
    "colab": {
     "base_uri": "https://localhost:8080/"
    },
    "id": "9_X4xSK5qovD",
    "outputId": "2d2f00d6-06c5-4aca-f734-76c5956ccadf"
   },
   "outputs": [
    {
     "data": {
      "text/plain": [
       "0    23364\n",
       "1     6636\n",
       "Name: default.payment.next.month, dtype: int64"
      ]
     },
     "execution_count": 53,
     "metadata": {
      "tags": []
     },
     "output_type": "execute_result"
    }
   ],
   "source": [
    "df[\"default.payment.next.month\"].value_counts()"
   ]
  },
  {
   "cell_type": "code",
   "execution_count": null,
   "metadata": {
    "colab": {
     "base_uri": "https://localhost:8080/",
     "height": 333
    },
    "id": "A-Q0r-P8qoxx",
    "outputId": "995ae0c0-caf5-4e14-9617-e2d908b89640"
   },
   "outputs": [
    {
     "name": "stderr",
     "output_type": "stream",
     "text": [
      "/usr/local/lib/python3.7/dist-packages/seaborn/_decorators.py:43: FutureWarning: Pass the following variable as a keyword arg: x. From version 0.12, the only valid positional argument will be `data`, and passing other arguments without an explicit keyword will result in an error or misinterpretation.\n",
      "  FutureWarning\n"
     ]
    },
    {
     "data": {
      "image/png": "[encoded data removed]",
      "text/plain": [
       "<Figure size 432x288 with 1 Axes>"
      ]
     },
     "metadata": {
      "needs_background": "light",
      "tags": []
     },
     "output_type": "display_data"
    }
   ],
   "source": [
    "sns.countplot(df[\"default.payment.next.month\"])\n",
    "plt.show()"
   ]
  },
  {
   "cell_type": "markdown",
   "metadata": {
    "id": "5j6hiSUotAFA"
   },
   "source": [
    "FROM THE ABOVE OBSERVATION WE CAN ABLE TO KNOW THAT THE ABOVE DATA IS IMBALANCED.\n"
   ]
  },
  {
   "cell_type": "code",
   "execution_count": null,
   "metadata": {
    "colab": {
     "base_uri": "https://localhost:8080/"
    },
    "id": "RAYBgtLVs-uo",
    "outputId": "a4c69df6-1601-457d-d9bb-5c9235f43354"
   },
   "outputs": [
    {
     "name": "stdout",
     "output_type": "stream",
     "text": [
      "Requirement already satisfied: imblearn in /usr/local/lib/python3.7/dist-packages (0.0)\n",
      "Requirement already satisfied: imbalanced-learn in /usr/local/lib/python3.7/dist-packages (from imblearn) (0.4.3)\n",
      "Requirement already satisfied: numpy>=1.8.2 in /usr/local/lib/python3.7/dist-packages (from imbalanced-learn->imblearn) (1.19.5)\n",
      "Requirement already satisfied: scipy>=0.13.3 in /usr/local/lib/python3.7/dist-packages (from imbalanced-learn->imblearn) (1.4.1)\n",
      "Requirement already satisfied: scikit-learn>=0.20 in /usr/local/lib/python3.7/dist-packages (from imbalanced-learn->imblearn) (0.22.2.post1)\n",
      "Requirement already satisfied: joblib>=0.11 in /usr/local/lib/python3.7/dist-packages (from scikit-learn>=0.20->imbalanced-learn->imblearn) (1.0.1)\n"
     ]
    }
   ],
   "source": [
    "!pip install imblearn"
   ]
  },
  {
   "cell_type": "code",
   "execution_count": null,
   "metadata": {
    "colab": {
     "base_uri": "https://localhost:8080/",
     "height": 224
    },
    "id": "1aN7EAWls-yc",
    "outputId": "d0c7fd6e-868a-4d69-ca81-4c74ac0dcce5"
   },
   "outputs": [
    {
     "data": {
      "text/html": [
       "<div>\n",
       "<style scoped>\n",
       "    .dataframe tbody tr th:only-of-type {\n",
       "        vertical-align: middle;\n",
       "    }\n",
       "\n",
       "    .dataframe tbody tr th {\n",
       "        vertical-align: top;\n",
       "    }\n",
       "\n",
       "    .dataframe thead th {\n",
       "        text-align: right;\n",
       "    }\n",
       "</style>\n",
       "<table border=\"1\" class=\"dataframe\">\n",
       "  <thead>\n",
       "    <tr style=\"text-align: right;\">\n",
       "      <th></th>\n",
       "      <th>LIMIT_BAL</th>\n",
       "      <th>SEX</th>\n",
       "      <th>EDUCATION</th>\n",
       "      <th>MARRIAGE</th>\n",
       "      <th>AGE</th>\n",
       "      <th>PAY_0</th>\n",
       "      <th>PAY_2</th>\n",
       "      <th>PAY_3</th>\n",
       "      <th>PAY_4</th>\n",
       "      <th>PAY_5</th>\n",
       "      <th>PAY_6</th>\n",
       "      <th>BILL_AMT1</th>\n",
       "      <th>BILL_AMT2</th>\n",
       "      <th>BILL_AMT3</th>\n",
       "      <th>BILL_AMT4</th>\n",
       "      <th>BILL_AMT5</th>\n",
       "      <th>BILL_AMT6</th>\n",
       "      <th>PAY_AMT1</th>\n",
       "      <th>PAY_AMT2</th>\n",
       "      <th>PAY_AMT3</th>\n",
       "      <th>PAY_AMT4</th>\n",
       "      <th>PAY_AMT5</th>\n",
       "      <th>PAY_AMT6</th>\n",
       "    </tr>\n",
       "  </thead>\n",
       "  <tbody>\n",
       "    <tr>\n",
       "      <th>0</th>\n",
       "      <td>20000.0</td>\n",
       "      <td>2</td>\n",
       "      <td>2</td>\n",
       "      <td>1</td>\n",
       "      <td>24</td>\n",
       "      <td>2</td>\n",
       "      <td>2</td>\n",
       "      <td>-1</td>\n",
       "      <td>-1</td>\n",
       "      <td>-2</td>\n",
       "      <td>-2</td>\n",
       "      <td>3913.0</td>\n",
       "      <td>3102.0</td>\n",
       "      <td>689.0</td>\n",
       "      <td>0.0</td>\n",
       "      <td>0.0</td>\n",
       "      <td>0.0</td>\n",
       "      <td>0.0</td>\n",
       "      <td>689.0</td>\n",
       "      <td>0.0</td>\n",
       "      <td>0.0</td>\n",
       "      <td>0.0</td>\n",
       "      <td>0.0</td>\n",
       "    </tr>\n",
       "    <tr>\n",
       "      <th>1</th>\n",
       "      <td>120000.0</td>\n",
       "      <td>2</td>\n",
       "      <td>2</td>\n",
       "      <td>2</td>\n",
       "      <td>26</td>\n",
       "      <td>-1</td>\n",
       "      <td>2</td>\n",
       "      <td>0</td>\n",
       "      <td>0</td>\n",
       "      <td>0</td>\n",
       "      <td>2</td>\n",
       "      <td>2682.0</td>\n",
       "      <td>1725.0</td>\n",
       "      <td>2682.0</td>\n",
       "      <td>3272.0</td>\n",
       "      <td>3455.0</td>\n",
       "      <td>3261.0</td>\n",
       "      <td>0.0</td>\n",
       "      <td>1000.0</td>\n",
       "      <td>1000.0</td>\n",
       "      <td>1000.0</td>\n",
       "      <td>0.0</td>\n",
       "      <td>2000.0</td>\n",
       "    </tr>\n",
       "    <tr>\n",
       "      <th>2</th>\n",
       "      <td>90000.0</td>\n",
       "      <td>2</td>\n",
       "      <td>2</td>\n",
       "      <td>2</td>\n",
       "      <td>34</td>\n",
       "      <td>0</td>\n",
       "      <td>0</td>\n",
       "      <td>0</td>\n",
       "      <td>0</td>\n",
       "      <td>0</td>\n",
       "      <td>0</td>\n",
       "      <td>29239.0</td>\n",
       "      <td>14027.0</td>\n",
       "      <td>13559.0</td>\n",
       "      <td>14331.0</td>\n",
       "      <td>14948.0</td>\n",
       "      <td>15549.0</td>\n",
       "      <td>1518.0</td>\n",
       "      <td>1500.0</td>\n",
       "      <td>1000.0</td>\n",
       "      <td>1000.0</td>\n",
       "      <td>1000.0</td>\n",
       "      <td>5000.0</td>\n",
       "    </tr>\n",
       "    <tr>\n",
       "      <th>3</th>\n",
       "      <td>50000.0</td>\n",
       "      <td>2</td>\n",
       "      <td>2</td>\n",
       "      <td>1</td>\n",
       "      <td>37</td>\n",
       "      <td>0</td>\n",
       "      <td>0</td>\n",
       "      <td>0</td>\n",
       "      <td>0</td>\n",
       "      <td>0</td>\n",
       "      <td>0</td>\n",
       "      <td>46990.0</td>\n",
       "      <td>48233.0</td>\n",
       "      <td>49291.0</td>\n",
       "      <td>28314.0</td>\n",
       "      <td>28959.0</td>\n",
       "      <td>29547.0</td>\n",
       "      <td>2000.0</td>\n",
       "      <td>2019.0</td>\n",
       "      <td>1200.0</td>\n",
       "      <td>1100.0</td>\n",
       "      <td>1069.0</td>\n",
       "      <td>1000.0</td>\n",
       "    </tr>\n",
       "    <tr>\n",
       "      <th>4</th>\n",
       "      <td>50000.0</td>\n",
       "      <td>1</td>\n",
       "      <td>2</td>\n",
       "      <td>1</td>\n",
       "      <td>57</td>\n",
       "      <td>-1</td>\n",
       "      <td>0</td>\n",
       "      <td>-1</td>\n",
       "      <td>0</td>\n",
       "      <td>0</td>\n",
       "      <td>0</td>\n",
       "      <td>8617.0</td>\n",
       "      <td>5670.0</td>\n",
       "      <td>35835.0</td>\n",
       "      <td>20940.0</td>\n",
       "      <td>19146.0</td>\n",
       "      <td>19131.0</td>\n",
       "      <td>2000.0</td>\n",
       "      <td>36681.0</td>\n",
       "      <td>10000.0</td>\n",
       "      <td>9000.0</td>\n",
       "      <td>689.0</td>\n",
       "      <td>679.0</td>\n",
       "    </tr>\n",
       "  </tbody>\n",
       "</table>\n",
       "</div>"
      ],
      "text/plain": [
       "   LIMIT_BAL  SEX  EDUCATION  MARRIAGE  ...  PAY_AMT3  PAY_AMT4  PAY_AMT5  PAY_AMT6\n",
       "0    20000.0    2          2         1  ...       0.0       0.0       0.0       0.0\n",
       "1   120000.0    2          2         2  ...    1000.0    1000.0       0.0    2000.0\n",
       "2    90000.0    2          2         2  ...    1000.0    1000.0    1000.0    5000.0\n",
       "3    50000.0    2          2         1  ...    1200.0    1100.0    1069.0    1000.0\n",
       "4    50000.0    1          2         1  ...   10000.0    9000.0     689.0     679.0\n",
       "\n",
       "[5 rows x 23 columns]"
      ]
     },
     "execution_count": 56,
     "metadata": {
      "tags": []
     },
     "output_type": "execute_result"
    }
   ],
   "source": [
    "X=df.iloc[:,1:-1]\n",
    "X.head()"
   ]
  },
  {
   "cell_type": "code",
   "execution_count": null,
   "metadata": {
    "colab": {
     "base_uri": "https://localhost:8080/"
    },
    "id": "UF1PrfHes-9y",
    "outputId": "f85d52fc-8217-48a7-bcbb-ac059070b048"
   },
   "outputs": [
    {
     "data": {
      "text/plain": [
       "0        1\n",
       "1        1\n",
       "2        0\n",
       "3        0\n",
       "4        0\n",
       "        ..\n",
       "29995    0\n",
       "29996    0\n",
       "29997    1\n",
       "29998    1\n",
       "29999    1\n",
       "Name: default.payment.next.month, Length: 30000, dtype: int64"
      ]
     },
     "execution_count": 57,
     "metadata": {
      "tags": []
     },
     "output_type": "execute_result"
    }
   ],
   "source": [
    "y=df[\"default.payment.next.month\"]\n",
    "y"
   ]
  },
  {
   "cell_type": "code",
   "execution_count": null,
   "metadata": {
    "colab": {
     "base_uri": "https://localhost:8080/"
    },
    "id": "12cuR-uPs_AQ",
    "outputId": "3d42f4ee-5dbc-4685-c11f-79651e00ce35"
   },
   "outputs": [
    {
     "data": {
      "text/plain": [
       "0    23364\n",
       "1     6636\n",
       "Name: default.payment.next.month, dtype: int64"
      ]
     },
     "execution_count": 58,
     "metadata": {
      "tags": []
     },
     "output_type": "execute_result"
    }
   ],
   "source": [
    "y.value_counts()"
   ]
  },
  {
   "cell_type": "code",
   "execution_count": null,
   "metadata": {
    "id": "jTuiIG44s_Dd"
   },
   "outputs": [],
   "source": [
    "from imblearn.combine import SMOTETomek"
   ]
  },
  {
   "cell_type": "code",
   "execution_count": null,
   "metadata": {
    "colab": {
     "base_uri": "https://localhost:8080/"
    },
    "id": "PAc0P-PgwUO9",
    "outputId": "9afde7c6-a8b5-435d-9d10-6e13cef56688"
   },
   "outputs": [
    {
     "name": "stderr",
     "output_type": "stream",
     "text": [
      "/usr/local/lib/python3.7/dist-packages/sklearn/utils/deprecation.py:87: FutureWarning: Function safe_indexing is deprecated; safe_indexing is deprecated in version 0.22 and will be removed in version 0.24.\n",
      "  warnings.warn(msg, category=FutureWarning)\n",
      "/usr/local/lib/python3.7/dist-packages/sklearn/utils/deprecation.py:87: FutureWarning: Function safe_indexing is deprecated; safe_indexing is deprecated in version 0.22 and will be removed in version 0.24.\n",
      "  warnings.warn(msg, category=FutureWarning)\n"
     ]
    }
   ],
   "source": [
    "sm=SMOTETomek(random_state=30)\n",
    "X_fin,y_fin=sm.fit_resample(X,y)"
   ]
  },
  {
   "cell_type": "code",
   "execution_count": null,
   "metadata": {
    "colab": {
     "base_uri": "https://localhost:8080/"
    },
    "id": "KrbpI2UKwUS2",
    "outputId": "0793fbaa-4cae-463d-c266-53ec646d8e7b"
   },
   "outputs": [
    {
     "data": {
      "text/plain": [
       "((45368, 23), (45368,))"
      ]
     },
     "execution_count": 61,
     "metadata": {
      "tags": []
     },
     "output_type": "execute_result"
    }
   ],
   "source": [
    "X_fin.shape,y_fin.shape"
   ]
  },
  {
   "cell_type": "code",
   "execution_count": null,
   "metadata": {
    "id": "MkVBIBNiwUgY"
   },
   "outputs": [],
   "source": [
    "from collections import Counter"
   ]
  },
  {
   "cell_type": "code",
   "execution_count": null,
   "metadata": {
    "colab": {
     "base_uri": "https://localhost:8080/"
    },
    "id": "PMP8H0AhwUkO",
    "outputId": "6e2d0796-d314-4808-845a-5df93d87a34f"
   },
   "outputs": [
    {
     "data": {
      "text/plain": [
       "Counter({0: 22684, 1: 22684})"
      ]
     },
     "execution_count": 63,
     "metadata": {
      "tags": []
     },
     "output_type": "execute_result"
    }
   ],
   "source": [
    "Counter(y_fin)"
   ]
  },
  {
   "cell_type": "code",
   "execution_count": null,
   "metadata": {
    "colab": {
     "base_uri": "https://localhost:8080/",
     "height": 319
    },
    "id": "x-ZgfG5KwUoy",
    "outputId": "f1ae1690-0f8c-438d-9beb-44224889d7e0"
   },
   "outputs": [
    {
     "name": "stderr",
     "output_type": "stream",
     "text": [
      "/usr/local/lib/python3.7/dist-packages/seaborn/_decorators.py:43: FutureWarning: Pass the following variable as a keyword arg: x. From version 0.12, the only valid positional argument will be `data`, and passing other arguments without an explicit keyword will result in an error or misinterpretation.\n",
      "  FutureWarning\n"
     ]
    },
    {
     "data": {
      "image/png": "[encoded data removed]",
      "text/plain": [
       "<Figure size 432x288 with 1 Axes>"
      ]
     },
     "metadata": {
      "needs_background": "light",
      "tags": []
     },
     "output_type": "display_data"
    }
   ],
   "source": [
    "sns.countplot(y_fin)\n",
    "plt.show()"
   ]
  },
  {
   "cell_type": "code",
   "execution_count": null,
   "metadata": {
    "id": "9H5WTBY5wUsE"
   },
   "outputs": [],
   "source": [
    "from sklearn.model_selection import train_test_split\n",
    "from sklearn.preprocessing import StandardScaler"
   ]
  },
  {
   "cell_type": "code",
   "execution_count": null,
   "metadata": {
    "id": "jBONLQ17wUvv"
   },
   "outputs": [],
   "source": [
    "X_train,X_test,y_train,y_test=train_test_split(X_fin,y_fin,test_size=0.33,random_state=30)"
   ]
  },
  {
   "cell_type": "code",
   "execution_count": null,
   "metadata": {
    "id": "vU0gezzE-SRY"
   },
   "outputs": [],
   "source": [
    "tr=StandardScaler()\n",
    "te=StandardScaler()"
   ]
  },
  {
   "cell_type": "code",
   "execution_count": null,
   "metadata": {
    "id": "ZkZHzBzSwUy-"
   },
   "outputs": [],
   "source": [
    "scaler_tr=tr.fit_transform(X_train)\n",
    "scaler_te=te.fit_transform(X_test)"
   ]
  },
  {
   "cell_type": "code",
   "execution_count": null,
   "metadata": {
    "id": "gOCG6tUL-njx"
   },
   "outputs": [],
   "source": [
    "scaled_train_df=pd.DataFrame(data=scaler_tr, columns=[\"LIMIT_BAL\",\"SEX\",\"EDUCATION\",\"MARRIAGE\",\"AGE\",\"PAY_0\",\"PAY_2\",\"PAY_3\",\"PAY_4\",\"PAY_5\",\"PAY_6\",\"BILL_AMT1\",\"BILL_AMT2\",\"BILL_AMT3\",\"BILL_AMT4\",\"BILL_AMT5\",\"BILL_AMT6\",\"PAY_AMT1\",\"PAY_AMT2\",\"PAY_AMT3\",\"PAY_AMT4\",\"PAY_AMT5\"\t,\"PAY_AMT6\"])"
   ]
  },
  {
   "cell_type": "code",
   "execution_count": null,
   "metadata": {
    "colab": {
     "base_uri": "https://localhost:8080/",
     "height": 224
    },
    "id": "jq9Pu39r-nzF",
    "outputId": "a34b1974-cce9-4eb3-8fd9-47ef5d7ea292"
   },
   "outputs": [
    {
     "data": {
      "text/html": [
       "<div>\n",
       "<style scoped>\n",
       "    .dataframe tbody tr th:only-of-type {\n",
       "        vertical-align: middle;\n",
       "    }\n",
       "\n",
       "    .dataframe tbody tr th {\n",
       "        vertical-align: top;\n",
       "    }\n",
       "\n",
       "    .dataframe thead th {\n",
       "        text-align: right;\n",
       "    }\n",
       "</style>\n",
       "<table border=\"1\" class=\"dataframe\">\n",
       "  <thead>\n",
       "    <tr style=\"text-align: right;\">\n",
       "      <th></th>\n",
       "      <th>LIMIT_BAL</th>\n",
       "      <th>SEX</th>\n",
       "      <th>EDUCATION</th>\n",
       "      <th>MARRIAGE</th>\n",
       "      <th>AGE</th>\n",
       "      <th>PAY_0</th>\n",
       "      <th>PAY_2</th>\n",
       "      <th>PAY_3</th>\n",
       "      <th>PAY_4</th>\n",
       "      <th>PAY_5</th>\n",
       "      <th>PAY_6</th>\n",
       "      <th>BILL_AMT1</th>\n",
       "      <th>BILL_AMT2</th>\n",
       "      <th>BILL_AMT3</th>\n",
       "      <th>BILL_AMT4</th>\n",
       "      <th>BILL_AMT5</th>\n",
       "      <th>BILL_AMT6</th>\n",
       "      <th>PAY_AMT1</th>\n",
       "      <th>PAY_AMT2</th>\n",
       "      <th>PAY_AMT3</th>\n",
       "      <th>PAY_AMT4</th>\n",
       "      <th>PAY_AMT5</th>\n",
       "      <th>PAY_AMT6</th>\n",
       "    </tr>\n",
       "  </thead>\n",
       "  <tbody>\n",
       "    <tr>\n",
       "      <th>0</th>\n",
       "      <td>0.610648</td>\n",
       "      <td>-0.277834</td>\n",
       "      <td>0.291774</td>\n",
       "      <td>-0.005616</td>\n",
       "      <td>-0.574859</td>\n",
       "      <td>-0.506275</td>\n",
       "      <td>-1.625414</td>\n",
       "      <td>-1.589614</td>\n",
       "      <td>-1.540796</td>\n",
       "      <td>-1.533435</td>\n",
       "      <td>-1.495273</td>\n",
       "      <td>-0.686213</td>\n",
       "      <td>-0.685186</td>\n",
       "      <td>-0.673360</td>\n",
       "      <td>-0.669970</td>\n",
       "      <td>-0.661952</td>\n",
       "      <td>-0.651932</td>\n",
       "      <td>-0.334963</td>\n",
       "      <td>-0.239060</td>\n",
       "      <td>-0.291505</td>\n",
       "      <td>-0.302074</td>\n",
       "      <td>-0.312742</td>\n",
       "      <td>-0.281582</td>\n",
       "    </tr>\n",
       "    <tr>\n",
       "      <th>1</th>\n",
       "      <td>-1.067778</td>\n",
       "      <td>-1.272793</td>\n",
       "      <td>1.556444</td>\n",
       "      <td>0.744933</td>\n",
       "      <td>-1.120606</td>\n",
       "      <td>1.395828</td>\n",
       "      <td>0.075289</td>\n",
       "      <td>-0.024587</td>\n",
       "      <td>0.030529</td>\n",
       "      <td>0.074870</td>\n",
       "      <td>-1.495273</td>\n",
       "      <td>-0.433782</td>\n",
       "      <td>-0.412820</td>\n",
       "      <td>-0.389640</td>\n",
       "      <td>-0.360848</td>\n",
       "      <td>-0.661952</td>\n",
       "      <td>-0.651932</td>\n",
       "      <td>-0.233544</td>\n",
       "      <td>-0.158998</td>\n",
       "      <td>-0.229467</td>\n",
       "      <td>-0.302074</td>\n",
       "      <td>-0.312742</td>\n",
       "      <td>-0.281582</td>\n",
       "    </tr>\n",
       "    <tr>\n",
       "      <th>2</th>\n",
       "      <td>-0.268527</td>\n",
       "      <td>-1.272793</td>\n",
       "      <td>-1.189130</td>\n",
       "      <td>0.930322</td>\n",
       "      <td>-0.513720</td>\n",
       "      <td>1.471592</td>\n",
       "      <td>-0.066908</td>\n",
       "      <td>-0.024587</td>\n",
       "      <td>1.601855</td>\n",
       "      <td>0.074870</td>\n",
       "      <td>0.104747</td>\n",
       "      <td>-0.336512</td>\n",
       "      <td>-0.264521</td>\n",
       "      <td>-0.205784</td>\n",
       "      <td>-0.179298</td>\n",
       "      <td>-0.103871</td>\n",
       "      <td>-0.041996</td>\n",
       "      <td>0.013357</td>\n",
       "      <td>-0.094672</td>\n",
       "      <td>-0.291505</td>\n",
       "      <td>-0.085043</td>\n",
       "      <td>-0.085011</td>\n",
       "      <td>-0.036478</td>\n",
       "    </tr>\n",
       "    <tr>\n",
       "      <th>3</th>\n",
       "      <td>0.290948</td>\n",
       "      <td>-1.272793</td>\n",
       "      <td>0.183657</td>\n",
       "      <td>-1.101580</td>\n",
       "      <td>-0.400370</td>\n",
       "      <td>0.641206</td>\n",
       "      <td>1.491598</td>\n",
       "      <td>1.540441</td>\n",
       "      <td>1.601855</td>\n",
       "      <td>1.683176</td>\n",
       "      <td>0.104747</td>\n",
       "      <td>-0.508894</td>\n",
       "      <td>-0.489518</td>\n",
       "      <td>-0.480068</td>\n",
       "      <td>-0.443637</td>\n",
       "      <td>-0.429396</td>\n",
       "      <td>-0.404576</td>\n",
       "      <td>-0.237433</td>\n",
       "      <td>-0.239060</td>\n",
       "      <td>-0.199595</td>\n",
       "      <td>-0.302074</td>\n",
       "      <td>-0.236832</td>\n",
       "      <td>-0.220306</td>\n",
       "    </tr>\n",
       "    <tr>\n",
       "      <th>4</th>\n",
       "      <td>0.930348</td>\n",
       "      <td>0.887244</td>\n",
       "      <td>0.183657</td>\n",
       "      <td>-1.101580</td>\n",
       "      <td>-0.967122</td>\n",
       "      <td>-0.189180</td>\n",
       "      <td>-0.066908</td>\n",
       "      <td>-0.024587</td>\n",
       "      <td>1.601855</td>\n",
       "      <td>0.074870</td>\n",
       "      <td>0.104747</td>\n",
       "      <td>-0.349429</td>\n",
       "      <td>-0.368630</td>\n",
       "      <td>-0.365807</td>\n",
       "      <td>-0.439573</td>\n",
       "      <td>-0.356550</td>\n",
       "      <td>-0.231830</td>\n",
       "      <td>-0.056307</td>\n",
       "      <td>0.001587</td>\n",
       "      <td>-0.291505</td>\n",
       "      <td>0.421364</td>\n",
       "      <td>0.218631</td>\n",
       "      <td>-0.159030</td>\n",
       "    </tr>\n",
       "  </tbody>\n",
       "</table>\n",
       "</div>"
      ],
      "text/plain": [
       "   LIMIT_BAL       SEX  EDUCATION  ...  PAY_AMT4  PAY_AMT5  PAY_AMT6\n",
       "0   0.610648 -0.277834   0.291774  ... -0.302074 -0.312742 -0.281582\n",
       "1  -1.067778 -1.272793   1.556444  ... -0.302074 -0.312742 -0.281582\n",
       "2  -0.268527 -1.272793  -1.189130  ... -0.085043 -0.085011 -0.036478\n",
       "3   0.290948 -1.272793   0.183657  ... -0.302074 -0.236832 -0.220306\n",
       "4   0.930348  0.887244   0.183657  ...  0.421364  0.218631 -0.159030\n",
       "\n",
       "[5 rows x 23 columns]"
      ]
     },
     "execution_count": 70,
     "metadata": {
      "tags": []
     },
     "output_type": "execute_result"
    }
   ],
   "source": [
    "scaled_train_df.head()"
   ]
  },
  {
   "cell_type": "code",
   "execution_count": null,
   "metadata": {
    "id": "Jci1vG8w-oAa"
   },
   "outputs": [],
   "source": [
    "scaled_test_df=pd.DataFrame(data=scaler_te, columns=[\"LIMIT_BAL\",\"SEX\",\"EDUCATION\",\"MARRIAGE\",\"AGE\",\"PAY_0\",\"PAY_2\",\"PAY_3\",\"PAY_4\",\"PAY_5\",\"PAY_6\",\"BILL_AMT1\",\"BILL_AMT2\",\"BILL_AMT3\",\"BILL_AMT4\",\"BILL_AMT5\",\"BILL_AMT6\",\"PAY_AMT1\",\"PAY_AMT2\",\"PAY_AMT3\",\"PAY_AMT4\",\"PAY_AMT5\"\t,\"PAY_AMT6\"])"
   ]
  },
  {
   "cell_type": "code",
   "execution_count": null,
   "metadata": {
    "id": "5WT9Pvv3-oOo"
   },
   "outputs": [],
   "source": [
    "from sklearn.naive_bayes import GaussianNB\n",
    "gnb=GaussianNB()"
   ]
  },
  {
   "cell_type": "code",
   "execution_count": null,
   "metadata": {
    "id": "9CwRAk6y-oXb"
   },
   "outputs": [],
   "source": [
    "pred_y=gnb.fit(scaled_train_df,y_train).predict(scaled_test_df)"
   ]
  },
  {
   "cell_type": "code",
   "execution_count": null,
   "metadata": {
    "id": "NtoxDFac-om-"
   },
   "outputs": [],
   "source": [
    "from sklearn.metrics import accuracy_score"
   ]
  },
  {
   "cell_type": "code",
   "execution_count": null,
   "metadata": {
    "colab": {
     "base_uri": "https://localhost:8080/"
    },
    "id": "x6MDLr9VwU2L",
    "outputId": "c1737c07-687c-4f0b-9084-de97e8bc01ae"
   },
   "outputs": [
    {
     "data": {
      "text/plain": [
       "0.5927063852524713"
      ]
     },
     "execution_count": 75,
     "metadata": {
      "tags": []
     },
     "output_type": "execute_result"
    }
   ],
   "source": [
    "ac=accuracy_score(y_test, pred_y)\n",
    "ac"
   ]
  },
  {
   "cell_type": "code",
   "execution_count": null,
   "metadata": {
    "id": "q6yxkfc7s_RK"
   },
   "outputs": [],
   "source": [
    "from sklearn.model_selection import GridSearchCV"
   ]
  },
  {
   "cell_type": "code",
   "execution_count": null,
   "metadata": {
    "id": "MP30wJzxEgzP"
   },
   "outputs": [],
   "source": [
    "param_grid = {\"var_smoothing\": [1e-9,0.1, 0.001, 0.5,0.05,0.01,1e-8,1e-7,1e-6,1e-10,1e-11]}\n",
    "#Creating an object of the Grid Search class\n",
    "grid = GridSearchCV(estimator=gnb, param_grid=param_grid, cv=5,  verbose=3)"
   ]
  },
  {
   "cell_type": "code",
   "execution_count": null,
   "metadata": {
    "colab": {
     "base_uri": "https://localhost:8080/"
    },
    "id": "nWr3wykwEhDc",
    "outputId": "38498489-3f5d-46b6-ffc6-fa091b5c96fe"
   },
   "outputs": [
    {
     "name": "stdout",
     "output_type": "stream",
     "text": [
      "Fitting 5 folds for each of 11 candidates, totalling 55 fits\n",
      "[CV] var_smoothing=1e-09 .............................................\n",
      "[CV] ................. var_smoothing=1e-09, score=0.573, total=   0.0s\n",
      "[CV] var_smoothing=1e-09 .............................................\n",
      "[CV] ................. var_smoothing=1e-09, score=0.588, total=   0.0s\n",
      "[CV] var_smoothing=1e-09 .............................................\n",
      "[CV] ................. var_smoothing=1e-09, score=0.579, total=   0.0s\n",
      "[CV] var_smoothing=1e-09 .............................................\n",
      "[CV] ................. var_smoothing=1e-09, score=0.586, total=   0.0s\n",
      "[CV] var_smoothing=1e-09 .............................................\n",
      "[CV] ................. var_smoothing=1e-09, score=0.604, total=   0.0s\n",
      "[CV] var_smoothing=0.1 ...............................................\n",
      "[CV] ................... var_smoothing=0.1, score=0.574, total=   0.0s\n",
      "[CV] var_smoothing=0.1 ...............................................\n",
      "[CV] ................... var_smoothing=0.1, score=0.592, total=   0.0s\n",
      "[CV] var_smoothing=0.1 ...............................................\n",
      "[CV] ................... var_smoothing=0.1, score=0.580, total=   0.0s\n",
      "[CV] var_smoothing=0.1 ...............................................\n",
      "[CV] ................... var_smoothing=0.1, score=0.587, total=   0.0s\n",
      "[CV] var_smoothing=0.1 ...............................................\n",
      "[CV] ................... var_smoothing=0.1, score=0.605, total=   0.0s\n",
      "[CV] var_smoothing=0.001 .............................................\n"
     ]
    },
    {
     "name": "stderr",
     "output_type": "stream",
     "text": [
      "[Parallel(n_jobs=1)]: Using backend SequentialBackend with 1 concurrent workers.\n",
      "[Parallel(n_jobs=1)]: Done   1 out of   1 | elapsed:    0.0s remaining:    0.0s\n",
      "[Parallel(n_jobs=1)]: Done   2 out of   2 | elapsed:    0.0s remaining:    0.0s\n"
     ]
    },
    {
     "name": "stdout",
     "output_type": "stream",
     "text": [
      "[CV] ................. var_smoothing=0.001, score=0.573, total=   0.0s\n",
      "[CV] var_smoothing=0.001 .............................................\n",
      "[CV] ................. var_smoothing=0.001, score=0.588, total=   0.0s\n",
      "[CV] var_smoothing=0.001 .............................................\n",
      "[CV] ................. var_smoothing=0.001, score=0.579, total=   0.0s\n",
      "[CV] var_smoothing=0.001 .............................................\n",
      "[CV] ................. var_smoothing=0.001, score=0.586, total=   0.0s\n",
      "[CV] var_smoothing=0.001 .............................................\n",
      "[CV] ................. var_smoothing=0.001, score=0.604, total=   0.0s\n",
      "[CV] var_smoothing=0.5 ...............................................\n",
      "[CV] ................... var_smoothing=0.5, score=0.583, total=   0.0s\n",
      "[CV] var_smoothing=0.5 ...............................................\n",
      "[CV] ................... var_smoothing=0.5, score=0.599, total=   0.0s\n",
      "[CV] var_smoothing=0.5 ...............................................\n",
      "[CV] ................... var_smoothing=0.5, score=0.582, total=   0.0s\n",
      "[CV] var_smoothing=0.5 ...............................................\n",
      "[CV] ................... var_smoothing=0.5, score=0.600, total=   0.0s\n",
      "[CV] var_smoothing=0.5 ...............................................\n",
      "[CV] ................... var_smoothing=0.5, score=0.609, total=   0.0s\n",
      "[CV] var_smoothing=0.05 ..............................................\n",
      "[CV] .................. var_smoothing=0.05, score=0.574, total=   0.0s\n",
      "[CV] var_smoothing=0.05 ..............................................\n",
      "[CV] .................. var_smoothing=0.05, score=0.590, total=   0.0s\n",
      "[CV] var_smoothing=0.05 ..............................................\n",
      "[CV] .................. var_smoothing=0.05, score=0.580, total=   0.0s\n",
      "[CV] var_smoothing=0.05 ..............................................\n",
      "[CV] .................. var_smoothing=0.05, score=0.587, total=   0.0s\n",
      "[CV] var_smoothing=0.05 ..............................................\n",
      "[CV] .................. var_smoothing=0.05, score=0.606, total=   0.0s\n",
      "[CV] var_smoothing=0.01 ..............................................\n",
      "[CV] .................. var_smoothing=0.01, score=0.573, total=   0.0s\n",
      "[CV] var_smoothing=0.01 ..............................................\n",
      "[CV] .................. var_smoothing=0.01, score=0.589, total=   0.0s\n",
      "[CV] var_smoothing=0.01 ..............................................\n",
      "[CV] .................. var_smoothing=0.01, score=0.579, total=   0.0s\n",
      "[CV] var_smoothing=0.01 ..............................................\n",
      "[CV] .................. var_smoothing=0.01, score=0.586, total=   0.0s\n",
      "[CV] var_smoothing=0.01 ..............................................\n",
      "[CV] .................. var_smoothing=0.01, score=0.604, total=   0.0s\n",
      "[CV] var_smoothing=1e-08 .............................................\n",
      "[CV] ................. var_smoothing=1e-08, score=0.573, total=   0.0s\n",
      "[CV] var_smoothing=1e-08 .............................................\n",
      "[CV] ................. var_smoothing=1e-08, score=0.588, total=   0.0s\n",
      "[CV] var_smoothing=1e-08 .............................................\n",
      "[CV] ................. var_smoothing=1e-08, score=0.579, total=   0.0s\n",
      "[CV] var_smoothing=1e-08 .............................................\n",
      "[CV] ................. var_smoothing=1e-08, score=0.586, total=   0.0s\n",
      "[CV] var_smoothing=1e-08 .............................................\n",
      "[CV] ................. var_smoothing=1e-08, score=0.604, total=   0.0s\n",
      "[CV] var_smoothing=1e-07 .............................................\n",
      "[CV] ................. var_smoothing=1e-07, score=0.573, total=   0.0s\n",
      "[CV] var_smoothing=1e-07 .............................................\n",
      "[CV] ................. var_smoothing=1e-07, score=0.588, total=   0.0s\n",
      "[CV] var_smoothing=1e-07 .............................................\n",
      "[CV] ................. var_smoothing=1e-07, score=0.579, total=   0.0s\n",
      "[CV] var_smoothing=1e-07 .............................................\n",
      "[CV] ................. var_smoothing=1e-07, score=0.586, total=   0.0s\n",
      "[CV] var_smoothing=1e-07 .............................................\n",
      "[CV] ................. var_smoothing=1e-07, score=0.604, total=   0.0s\n",
      "[CV] var_smoothing=1e-06 .............................................\n",
      "[CV] ................. var_smoothing=1e-06, score=0.573, total=   0.0s\n",
      "[CV] var_smoothing=1e-06 .............................................\n",
      "[CV] ................. var_smoothing=1e-06, score=0.588, total=   0.0s\n",
      "[CV] var_smoothing=1e-06 .............................................\n",
      "[CV] ................. var_smoothing=1e-06, score=0.579, total=   0.0s\n",
      "[CV] var_smoothing=1e-06 .............................................\n",
      "[CV] ................. var_smoothing=1e-06, score=0.586, total=   0.0s\n",
      "[CV] var_smoothing=1e-06 .............................................\n",
      "[CV] ................. var_smoothing=1e-06, score=0.604, total=   0.0s\n",
      "[CV] var_smoothing=1e-10 .............................................\n",
      "[CV] ................. var_smoothing=1e-10, score=0.573, total=   0.0s\n",
      "[CV] var_smoothing=1e-10 .............................................\n",
      "[CV] ................. var_smoothing=1e-10, score=0.588, total=   0.0s\n",
      "[CV] var_smoothing=1e-10 .............................................\n",
      "[CV] ................. var_smoothing=1e-10, score=0.579, total=   0.0s\n",
      "[CV] var_smoothing=1e-10 .............................................\n",
      "[CV] ................. var_smoothing=1e-10, score=0.586, total=   0.0s\n",
      "[CV] var_smoothing=1e-10 .............................................\n",
      "[CV] ................. var_smoothing=1e-10, score=0.604, total=   0.0s\n",
      "[CV] var_smoothing=1e-11 .............................................\n",
      "[CV] ................. var_smoothing=1e-11, score=0.573, total=   0.0s\n",
      "[CV] var_smoothing=1e-11 .............................................\n",
      "[CV] ................. var_smoothing=1e-11, score=0.588, total=   0.0s\n",
      "[CV] var_smoothing=1e-11 .............................................\n",
      "[CV] ................. var_smoothing=1e-11, score=0.579, total=   0.0s\n",
      "[CV] var_smoothing=1e-11 .............................................\n",
      "[CV] ................. var_smoothing=1e-11, score=0.586, total=   0.0s\n",
      "[CV] var_smoothing=1e-11 .............................................\n",
      "[CV] ................. var_smoothing=1e-11, score=0.604, total=   0.0s\n"
     ]
    },
    {
     "name": "stderr",
     "output_type": "stream",
     "text": [
      "[Parallel(n_jobs=1)]: Done  55 out of  55 | elapsed:    1.0s finished\n"
     ]
    },
    {
     "data": {
      "text/plain": [
       "GridSearchCV(cv=5, error_score=nan,\n",
       "             estimator=GaussianNB(priors=None, var_smoothing=1e-09),\n",
       "             iid='deprecated', n_jobs=None,\n",
       "             param_grid={'var_smoothing': [1e-09, 0.1, 0.001, 0.5, 0.05, 0.01,\n",
       "                                           1e-08, 1e-07, 1e-06, 1e-10, 1e-11]},\n",
       "             pre_dispatch='2*n_jobs', refit=True, return_train_score=False,\n",
       "             scoring=None, verbose=3)"
      ]
     },
     "execution_count": 78,
     "metadata": {
      "tags": []
     },
     "output_type": "execute_result"
    }
   ],
   "source": [
    "#finding the best parameters\n",
    "grid.fit(scaler_tr, y_train)"
   ]
  },
  {
   "cell_type": "code",
   "execution_count": null,
   "metadata": {
    "colab": {
     "base_uri": "https://localhost:8080/"
    },
    "id": "TinjZVDpEhS2",
    "outputId": "dd3ed3d3-3e0c-487e-b4bd-16bbb823ac4c"
   },
   "outputs": [
    {
     "data": {
      "text/plain": [
       "GaussianNB(priors=None, var_smoothing=0.5)"
      ]
     },
     "execution_count": 79,
     "metadata": {
      "tags": []
     },
     "output_type": "execute_result"
    }
   ],
   "source": [
    "grid.best_estimator_"
   ]
  },
  {
   "cell_type": "code",
   "execution_count": null,
   "metadata": {
    "id": "6YGS9RkKEhjA"
   },
   "outputs": [],
   "source": [
    "gnb_new=GaussianNB(var_smoothing=0.5)\n",
    "pred_y_new=gnb_new.fit(scaled_train_df,y_train).predict(scaled_test_df)"
   ]
  },
  {
   "cell_type": "code",
   "execution_count": null,
   "metadata": {
    "colab": {
     "base_uri": "https://localhost:8080/"
    },
    "id": "0_6ZZVntEhy5",
    "outputId": "2f15e676-b9f1-4e0a-f928-a62def72d7e4"
   },
   "outputs": [
    {
     "data": {
      "text/plain": [
       "0.6010553032327011"
      ]
     },
     "execution_count": 81,
     "metadata": {
      "tags": []
     },
     "output_type": "execute_result"
    }
   ],
   "source": [
    "ac_new=accuracy_score(y_test,pred_y_new)\n",
    "ac_new"
   ]
  },
  {
   "cell_type": "code",
   "execution_count": null,
   "metadata": {
    "id": "nzuoBbbAEiCA"
   },
   "outputs": [],
   "source": [
    "param_grid_xgboost = {\"n_estimators\": [50,100, 130],\n",
    "                      \"max_depth\": range(3, 11, 1),\n",
    "                      \"random_state\":[0,50,100]\n",
    "                     }"
   ]
  },
  {
   "cell_type": "code",
   "execution_count": null,
   "metadata": {
    "id": "gQYx4wKBs_UW"
   },
   "outputs": [],
   "source": [
    "from xgboost import XGBClassifier"
   ]
  },
  {
   "cell_type": "code",
   "execution_count": null,
   "metadata": {
    "id": "kevqy5dYEiQ4"
   },
   "outputs": [],
   "source": [
    "grid= GridSearchCV(XGBClassifier(objective='binary:logistic'),param_grid_xgboost, verbose=3,cv=5,n_jobs=-1)"
   ]
  },
  {
   "cell_type": "code",
   "execution_count": null,
   "metadata": {
    "colab": {
     "base_uri": "https://localhost:8080/"
    },
    "id": "QwvC2tdMHhsF",
    "outputId": "124d4d6d-d592-427a-a8dd-f6585db004bb"
   },
   "outputs": [
    {
     "name": "stdout",
     "output_type": "stream",
     "text": [
      "Fitting 5 folds for each of 72 candidates, totalling 360 fits\n"
     ]
    },
    {
     "name": "stderr",
     "output_type": "stream",
     "text": [
      "[Parallel(n_jobs=-1)]: Using backend LokyBackend with 2 concurrent workers.\n",
      "[Parallel(n_jobs=-1)]: Done  28 tasks      | elapsed:   52.8s\n",
      "[Parallel(n_jobs=-1)]: Done 124 tasks      | elapsed:  5.8min\n",
      "[Parallel(n_jobs=-1)]: Done 284 tasks      | elapsed: 19.8min\n",
      "[Parallel(n_jobs=-1)]: Done 360 out of 360 | elapsed: 30.2min finished\n"
     ]
    },
    {
     "data": {
      "text/plain": [
       "GridSearchCV(cv=5, error_score=nan,\n",
       "             estimator=XGBClassifier(base_score=0.5, booster='gbtree',\n",
       "                                     colsample_bylevel=1, colsample_bynode=1,\n",
       "                                     colsample_bytree=1, gamma=0,\n",
       "                                     learning_rate=0.1, max_delta_step=0,\n",
       "                                     max_depth=3, min_child_weight=1,\n",
       "                                     missing=None, n_estimators=100, n_jobs=1,\n",
       "                                     nthread=None, objective='binary:logistic',\n",
       "                                     random_state=0, reg_alpha=0, reg_lambda=1,\n",
       "                                     scale_pos_weight=1, seed=None, silent=None,\n",
       "                                     subsample=1, verbosity=1),\n",
       "             iid='deprecated', n_jobs=-1,\n",
       "             param_grid={'max_depth': range(3, 11),\n",
       "                         'n_estimators': [50, 100, 130],\n",
       "                         'random_state': [0, 50, 100]},\n",
       "             pre_dispatch='2*n_jobs', refit=True, return_train_score=False,\n",
       "             scoring=None, verbose=3)"
      ]
     },
     "execution_count": 38,
     "metadata": {
      "tags": []
     },
     "output_type": "execute_result"
    }
   ],
   "source": [
    "grid.fit(scaled_train_df,y_train)"
   ]
  },
  {
   "cell_type": "code",
   "execution_count": null,
   "metadata": {
    "colab": {
     "base_uri": "https://localhost:8080/"
    },
    "id": "T_MlZuxLHh8q",
    "outputId": "ef0df840-dab0-4ff2-ead3-d37bd04dc5f1"
   },
   "outputs": [
    {
     "data": {
      "text/plain": [
       "XGBClassifier(base_score=0.5, booster='gbtree', colsample_bylevel=1,\n",
       "              colsample_bynode=1, colsample_bytree=1, gamma=0,\n",
       "              learning_rate=0.1, max_delta_step=0, max_depth=7,\n",
       "              min_child_weight=1, missing=None, n_estimators=100, n_jobs=1,\n",
       "              nthread=None, objective='binary:logistic', random_state=0,\n",
       "              reg_alpha=0, reg_lambda=1, scale_pos_weight=1, seed=None,\n",
       "              silent=None, subsample=1, verbosity=1)"
      ]
     },
     "execution_count": 39,
     "metadata": {
      "tags": []
     },
     "output_type": "execute_result"
    }
   ],
   "source": [
    "grid.best_estimator_"
   ]
  },
  {
   "cell_type": "code",
   "execution_count": null,
   "metadata": {
    "id": "6udMFikdHiL0"
   },
   "outputs": [],
   "source": [
    "xgb_new=XGBClassifier(base_score=0.5, booster='gbtree', colsample_bylevel=1,\n",
    "              colsample_bynode=1, colsample_bytree=1, gamma=0,\n",
    "              learning_rate=0.1, max_delta_step=0, max_depth=3,\n",
    "              min_child_weight=1, missing=None, n_estimators=50, n_jobs=-1,\n",
    "              nthread=None, objective='binary:logistic', random_state=0,\n",
    "              reg_alpha=0, reg_lambda=1, scale_pos_weight=1, seed=None,\n",
    "              silent=None, subsample=1, verbosity=1)"
   ]
  },
  {
   "cell_type": "code",
   "execution_count": null,
   "metadata": {
    "id": "vnVyeJkCHiYx"
   },
   "outputs": [],
   "source": [
    "pred_y_xgb_new=xgb_new.fit(scaled_train_df,y_train).predict(scaled_test_df)"
   ]
  },
  {
   "cell_type": "code",
   "execution_count": null,
   "metadata": {
    "id": "Dzd775ETHipv"
   },
   "outputs": [],
   "source": [
    "ac_xgb_new=accuracy_score(y_test,pred_y_xgb_new)"
   ]
  },
  {
   "cell_type": "code",
   "execution_count": null,
   "metadata": {
    "colab": {
     "base_uri": "https://localhost:8080/"
    },
    "id": "Xk6GZxuaHi79",
    "outputId": "9328a654-69a3-4e04-ab4d-765e2842c3e3"
   },
   "outputs": [
    {
     "data": {
      "text/plain": [
       "0.5051429334758215"
      ]
     },
     "execution_count": 43,
     "metadata": {
      "tags": []
     },
     "output_type": "execute_result"
    }
   ],
   "source": [
    "ac_xgb_new"
   ]
  },
  {
   "cell_type": "code",
   "execution_count": null,
   "metadata": {
    "colab": {
     "base_uri": "https://localhost:8080/"
    },
    "id": "U1ssi8FHP0FW",
    "outputId": "9307a6e4-1a5f-4dad-816d-383bd8f90e2d"
   },
   "outputs": [
    {
     "name": "stdout",
     "output_type": "stream",
     "text": [
      "              precision    recall  f1-score   support\n",
      "\n",
      "           0       0.69      0.72      0.70      7531\n",
      "           1       0.70      0.67      0.69      7441\n",
      "\n",
      "    accuracy                           0.69     14972\n",
      "   macro avg       0.69      0.69      0.69     14972\n",
      "weighted avg       0.69      0.69      0.69     14972\n",
      "\n",
      "[[5385 2146]\n",
      " [2437 5004]]\n"
     ]
    }
   ],
   "source": [
    "from sklearn.linear_model import LogisticRegression\n",
    "model = LogisticRegression(random_state=50)\n",
    "model.fit(scaled_train_df,y_train)\n",
    "pred_y = model.predict(scaled_test_df)\n",
    "from sklearn.metrics import confusion_matrix, classification_report\n",
    "print(classification_report(y_test,pred_y))\n",
    "print(confusion_matrix(y_test,pred_y))"
   ]
  },
  {
   "cell_type": "code",
   "execution_count": null,
   "metadata": {
    "colab": {
     "base_uri": "https://localhost:8080/"
    },
    "id": "ABB-bgW6P0J3",
    "outputId": "62892498-855a-4850-ec56-282d0de3ae30"
   },
   "outputs": [
    {
     "name": "stdout",
     "output_type": "stream",
     "text": [
      "              precision    recall  f1-score   support\n",
      "\n",
      "           0       0.80      0.77      0.78      7531\n",
      "           1       0.78      0.80      0.79      7441\n",
      "\n",
      "    accuracy                           0.79     14972\n",
      "   macro avg       0.79      0.79      0.79     14972\n",
      "weighted avg       0.79      0.79      0.79     14972\n",
      "\n",
      "[[5822 1709]\n",
      " [1488 5953]]\n"
     ]
    }
   ],
   "source": [
    "from sklearn.neighbors import KNeighborsClassifier\n",
    "model = KNeighborsClassifier()\n",
    "model.fit(scaled_train_df,y_train)\n",
    "pred_y = model.predict(scaled_test_df)\n",
    "from sklearn.metrics import confusion_matrix, classification_report\n",
    "print(classification_report(y_test,pred_y))\n",
    "print(confusion_matrix(y_test,pred_y))"
   ]
  },
  {
   "cell_type": "code",
   "execution_count": null,
   "metadata": {
    "id": "_htoPo8UtDd7"
   },
   "outputs": [],
   "source": [
    "error_rate = []\n",
    "\n",
    "# Will take some time\n",
    "for i in range(1,40):\n",
    "    \n",
    "    knn = KNeighborsClassifier(n_neighbors=i)\n",
    "    knn.fit(scaled_train_df,y_train)\n",
    "    pred_i = knn.predict(scaled_test_df)\n",
    "    error_rate.append(np.mean(pred_i != y_test))"
   ]
  },
  {
   "cell_type": "code",
   "execution_count": null,
   "metadata": {
    "colab": {
     "base_uri": "https://localhost:8080/",
     "height": 421
    },
    "id": "taxMdBS0tgbe",
    "outputId": "ad24a91c-ebb6-4eba-e3f5-4048bda6fa31"
   },
   "outputs": [
    {
     "data": {
      "text/plain": [
       "Text(0, 0.5, 'Error Rate')"
      ]
     },
     "execution_count": 113,
     "metadata": {
      "tags": []
     },
     "output_type": "execute_result"
    },
    {
     "data": {
      "image/png": "[encoded data removed]",
      "text/plain": [
       "<Figure size 720x432 with 1 Axes>"
      ]
     },
     "metadata": {
      "needs_background": "light",
      "tags": []
     },
     "output_type": "display_data"
    }
   ],
   "source": [
    "plt.figure(figsize=(10,6))\n",
    "plt.plot(range(1,40),error_rate,color='blue', linestyle='dashed', marker='o',\n",
    "         markerfacecolor='red', markersize=10)\n",
    "plt.title('Error Rate vs. K Value')\n",
    "plt.xlabel('K')\n",
    "plt.ylabel('Error Rate')"
   ]
  },
  {
   "cell_type": "code",
   "execution_count": null,
   "metadata": {
    "colab": {
     "base_uri": "https://localhost:8080/"
    },
    "id": "AdozUcbKyqsE",
    "outputId": "ecf34c8f-ded9-4b08-f4b5-e02b2516e007"
   },
   "outputs": [
    {
     "name": "stdout",
     "output_type": "stream",
     "text": [
      "[[5888 1643]\n",
      " [ 849 6592]]\n",
      "              precision    recall  f1-score   support\n",
      "\n",
      "           0       0.87      0.78      0.83      7531\n",
      "           1       0.80      0.89      0.84      7441\n",
      "\n",
      "    accuracy                           0.83     14972\n",
      "   macro avg       0.84      0.83      0.83     14972\n",
      "weighted avg       0.84      0.83      0.83     14972\n",
      "\n"
     ]
    }
   ],
   "source": [
    "knn = KNeighborsClassifier(n_neighbors=1)\n",
    "\n",
    "knn.fit(scaled_train_df,y_train)\n",
    "pred = knn.predict(scaled_test_df)\n",
    "\n",
    "\n",
    "print(confusion_matrix(y_test,pred))\n",
    "\n",
    "print(classification_report(y_test,pred))"
   ]
  },
  {
   "cell_type": "code",
   "execution_count": null,
   "metadata": {
    "colab": {
     "base_uri": "https://localhost:8080/"
    },
    "id": "KhbiO9Vfyq-m",
    "outputId": "747aa0ad-b4d4-45a1-e320-d3d4de6dd238"
   },
   "outputs": [
    {
     "name": "stdout",
     "output_type": "stream",
     "text": [
      "[[6616  915]\n",
      " [2024 5417]]\n",
      "              precision    recall  f1-score   support\n",
      "\n",
      "           0       0.77      0.88      0.82      7531\n",
      "           1       0.86      0.73      0.79      7441\n",
      "\n",
      "    accuracy                           0.80     14972\n",
      "   macro avg       0.81      0.80      0.80     14972\n",
      "weighted avg       0.81      0.80      0.80     14972\n",
      "\n"
     ]
    }
   ],
   "source": [
    "knn = KNeighborsClassifier(n_neighbors=2)\n",
    "\n",
    "knn.fit(scaled_train_df,y_train)\n",
    "pred = knn.predict(scaled_test_df)\n",
    "\n",
    "\n",
    "print(confusion_matrix(y_test,pred))\n",
    "\n",
    "print(classification_report(y_test,pred))"
   ]
  },
  {
   "cell_type": "code",
   "execution_count": null,
   "metadata": {
    "colab": {
     "base_uri": "https://localhost:8080/"
    },
    "id": "no6mWIg1qo0j",
    "outputId": "5edab876-8df4-4cf2-dcd5-57a21422957f"
   },
   "outputs": [
    {
     "name": "stdout",
     "output_type": "stream",
     "text": [
      "Classification Report \n",
      "\n",
      "              precision    recall  f1-score   support\n",
      "\n",
      "           0       0.91      0.09      0.17      7531\n",
      "           1       0.52      0.99      0.68      7441\n",
      "\n",
      "    accuracy                           0.54     14972\n",
      "   macro avg       0.71      0.54      0.43     14972\n",
      "weighted avg       0.71      0.54      0.42     14972\n",
      "\n",
      "Confusion Matrix\n",
      "\n",
      "[[ 714 6817]\n",
      " [  74 7367]]\n"
     ]
    }
   ],
   "source": [
    "from sklearn.ensemble import RandomForestClassifier\n",
    "model = RandomForestClassifier(n_estimators=40,random_state=30)\n",
    "model.fit(scaled_train_df,y_train)\n",
    "pred = model.predict(scaled_test_df)\n",
    "print(\"Classification Report \\n\")\n",
    "print(classification_report(y_test,pred))\n",
    "print(\"Confusion Matrix\\n\")\n",
    "print(confusion_matrix(y_test,pred))"
   ]
  },
  {
   "cell_type": "code",
   "execution_count": null,
   "metadata": {
    "colab": {
     "base_uri": "https://localhost:8080/"
    },
    "id": "g5i_DCmFmA9g",
    "outputId": "42f52ee5-6e05-47e0-f823-f906db878b21"
   },
   "outputs": [
    {
     "data": {
      "text/plain": [
       "{'mean_fit_time': array([0.60785317, 0.88071022]),\n",
       " 'mean_score_time': array([0.0024085 , 0.00229585]),\n",
       " 'mean_test_score': array([0.81010619, 0.81560053]),\n",
       " 'param_criterion': masked_array(data=['gini', 'entropy'],\n",
       "              mask=[False, False],\n",
       "        fill_value='?',\n",
       "             dtype=object),\n",
       " 'params': [{'criterion': 'gini'}, {'criterion': 'entropy'}],\n",
       " 'rank_test_score': array([2, 1], dtype=int32),\n",
       " 'split0_test_score': array([0.80855263, 0.81480263]),\n",
       " 'split1_test_score': array([0.82302632, 0.82006579]),\n",
       " 'split2_test_score': array([0.81282895, 0.82368421]),\n",
       " 'split3_test_score': array([0.81677632, 0.8125    ]),\n",
       " 'split4_test_score': array([0.80855263, 0.82697368]),\n",
       " 'split5_test_score': array([0.80328947, 0.80197368]),\n",
       " 'split6_test_score': array([0.79828891, 0.80783152]),\n",
       " 'split7_test_score': array([0.80519908, 0.82033564]),\n",
       " 'split8_test_score': array([0.8153998 , 0.81342547]),\n",
       " 'split9_test_score': array([0.80914775, 0.81441264]),\n",
       " 'std_fit_time': array([0.01293863, 0.01198547]),\n",
       " 'std_score_time': array([1.59200210e-04, 5.67118822e-05]),\n",
       " 'std_test_score': array([0.00680292, 0.00706749])}"
      ]
     },
     "execution_count": 95,
     "metadata": {
      "tags": []
     },
     "output_type": "execute_result"
    }
   ],
   "source": [
    "from sklearn.model_selection import GridSearchCV\n",
    "from sklearn.tree import DecisionTreeClassifier\n",
    "clf = GridSearchCV(DecisionTreeClassifier(), {'criterion':['gini', 'entropy']}, cv=10, return_train_score=False)\n",
    "clf.fit(scaled_train_df, y_train)\n",
    "clf.cv_results_"
   ]
  },
  {
   "cell_type": "code",
   "execution_count": null,
   "metadata": {
    "colab": {
     "base_uri": "https://localhost:8080/",
     "height": 111
    },
    "id": "8vrFSEX1qQps",
    "outputId": "a6fbc98d-397a-4593-fdd1-c8c91291b977"
   },
   "outputs": [
    {
     "data": {
      "text/html": [
       "<div>\n",
       "<style scoped>\n",
       "    .dataframe tbody tr th:only-of-type {\n",
       "        vertical-align: middle;\n",
       "    }\n",
       "\n",
       "    .dataframe tbody tr th {\n",
       "        vertical-align: top;\n",
       "    }\n",
       "\n",
       "    .dataframe thead th {\n",
       "        text-align: right;\n",
       "    }\n",
       "</style>\n",
       "<table border=\"1\" class=\"dataframe\">\n",
       "  <thead>\n",
       "    <tr style=\"text-align: right;\">\n",
       "      <th></th>\n",
       "      <th>param_criterion</th>\n",
       "      <th>mean_test_score</th>\n",
       "    </tr>\n",
       "  </thead>\n",
       "  <tbody>\n",
       "    <tr>\n",
       "      <th>0</th>\n",
       "      <td>gini</td>\n",
       "      <td>0.810106</td>\n",
       "    </tr>\n",
       "    <tr>\n",
       "      <th>1</th>\n",
       "      <td>entropy</td>\n",
       "      <td>0.815601</td>\n",
       "    </tr>\n",
       "  </tbody>\n",
       "</table>\n",
       "</div>"
      ],
      "text/plain": [
       "  param_criterion  mean_test_score\n",
       "0            gini         0.810106\n",
       "1         entropy         0.815601"
      ]
     },
     "execution_count": 96,
     "metadata": {
      "tags": []
     },
     "output_type": "execute_result"
    }
   ],
   "source": [
    "dt_result_df = pd.DataFrame(clf.cv_results_)\n",
    "dt_result_df[['param_criterion', 'mean_test_score']]"
   ]
  },
  {
   "cell_type": "code",
   "execution_count": null,
   "metadata": {
    "colab": {
     "base_uri": "https://localhost:8080/"
    },
    "id": "ebmaQvEdmArT",
    "outputId": "40bb6d50-1453-45f6-e874-66c4b78afda3"
   },
   "outputs": [
    {
     "name": "stdout",
     "output_type": "stream",
     "text": [
      "DecisionTrees's Accuracy is:  74.1317125300561\n",
      "              precision    recall  f1-score   support\n",
      "\n",
      "           0       0.70      0.85      0.77      7531\n",
      "           1       0.81      0.63      0.71      7441\n",
      "\n",
      "    accuracy                           0.74     14972\n",
      "   macro avg       0.75      0.74      0.74     14972\n",
      "weighted avg       0.75      0.74      0.74     14972\n",
      "\n"
     ]
    }
   ],
   "source": [
    "from sklearn.tree import DecisionTreeClassifier\n",
    "from sklearn.metrics import accuracy_score\n",
    "model = DecisionTreeClassifier(criterion=\"gini\",random_state=3,max_depth=1)\n",
    "model.fit(scaled_train_df,y_train)\n",
    "predicted_values = model.predict(scaled_test_df)\n",
    "x = accuracy_score(y_test, predicted_values)\n",
    "print(\"DecisionTrees's Accuracy is: \", x*100)\n",
    "print(classification_report(y_test,predicted_values))"
   ]
  },
  {
   "cell_type": "code",
   "execution_count": null,
   "metadata": {
    "colab": {
     "base_uri": "https://localhost:8080/"
    },
    "id": "15SLlaRwmBLn",
    "outputId": "ffc4fdd6-1128-4927-e8cd-9b50e93a4901"
   },
   "outputs": [
    {
     "name": "stdout",
     "output_type": "stream",
     "text": [
      "SVM's Accuracy is:  0.7906759283996794\n",
      "              precision    recall  f1-score   support\n",
      "\n",
      "           0       0.75      0.87      0.81      7531\n",
      "           1       0.85      0.71      0.77      7441\n",
      "\n",
      "    accuracy                           0.79     14972\n",
      "   macro avg       0.80      0.79      0.79     14972\n",
      "weighted avg       0.80      0.79      0.79     14972\n",
      "\n"
     ]
    }
   ],
   "source": [
    "from sklearn.svm import SVC\n",
    "SVM = SVC(gamma='auto')\n",
    "SVM.fit(scaled_train_df,y_train)\n",
    "predicted_values = SVM.predict(scaled_test_df)\n",
    "x = accuracy_score(y_test, predicted_values)\n",
    "print(\"SVM's Accuracy is: \", x)\n",
    "print(classification_report(y_test,predicted_values))"
   ]
  },
  {
   "cell_type": "code",
   "execution_count": null,
   "metadata": {
    "id": "rRxlQucgzQ1q"
   },
   "outputs": [],
   "source": []
  },
  {
   "cell_type": "code",
   "execution_count": null,
   "metadata": {
    "id": "COrdXEWizQ62"
   },
   "outputs": [],
   "source": []
  },
  {
   "cell_type": "code",
   "execution_count": null,
   "metadata": {
    "id": "BM87-uIizROe"
   },
   "outputs": [],
   "source": []
  },
  {
   "cell_type": "code",
   "execution_count": null,
   "metadata": {
    "id": "bMFhskCMzRSX"
   },
   "outputs": [],
   "source": []
  },
  {
   "cell_type": "code",
   "execution_count": null,
   "metadata": {
    "id": "Vq_VfPs_mBZo"
   },
   "outputs": [],
   "source": []
  }
 ],
 "metadata": {
  "colab": {
   "collapsed_sections": [],
   "name": "CREDIT CARD FRAUD DETECTION.ipynb",
   "provenance": []
  },
  "kernelspec": {
   "display_name": "Python 3",
   "language": "python",
   "name": "python3"
  },
  "language_info": {
   "codemirror_mode": {
    "name": "ipython",
    "version": 3
   },
   "file_extension": ".py",
   "mimetype": "text/x-python",
   "name": "python",
   "nbconvert_exporter": "python",
   "pygments_lexer": "ipython3",
   "version": "3.8.5"
  }
 },
 "nbformat": 4,
 "nbformat_minor": 1
}
