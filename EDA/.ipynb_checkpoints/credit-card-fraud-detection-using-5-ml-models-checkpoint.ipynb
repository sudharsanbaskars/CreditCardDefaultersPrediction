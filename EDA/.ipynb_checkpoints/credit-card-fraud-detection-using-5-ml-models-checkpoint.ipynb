{
 "cells": [
  {
   "cell_type": "code",
   "execution_count": 2,
   "metadata": {
    "execution": {
     "iopub.execute_input": "2021-06-28T14:27:18.357762Z",
     "iopub.status.busy": "2021-06-28T14:27:18.357369Z",
     "iopub.status.idle": "2021-06-28T14:27:18.365431Z",
     "shell.execute_reply": "2021-06-28T14:27:18.364323Z",
     "shell.execute_reply.started": "2021-06-28T14:27:18.357719Z"
    }
   },
   "outputs": [],
   "source": [
    "import numpy as np\n",
    "import pandas as pd\n",
    "import matplotlib.pyplot as plt\n",
    "import seaborn as sns\n",
    "%matplotlib inline\n",
    "import warnings\n",
    "warnings.filterwarnings('ignore')\n",
    "warnings.simplefilter('ignore')"
   ]
  },
  {
   "cell_type": "markdown",
   "metadata": {},
   "source": [
    "# **Data Wrangling:**"
   ]
  },
  {
   "cell_type": "code",
   "execution_count": 3,
   "metadata": {
    "execution": {
     "iopub.execute_input": "2021-06-28T14:30:10.736274Z",
     "iopub.status.busy": "2021-06-28T14:30:10.735739Z",
     "iopub.status.idle": "2021-06-28T14:30:10.863855Z",
     "shell.execute_reply": "2021-06-28T14:30:10.862259Z",
     "shell.execute_reply.started": "2021-06-28T14:30:10.736219Z"
    }
   },
   "outputs": [
    {
     "data": {
      "text/html": [
       "<div>\n",
       "<style scoped>\n",
       "    .dataframe tbody tr th:only-of-type {\n",
       "        vertical-align: middle;\n",
       "    }\n",
       "\n",
       "    .dataframe tbody tr th {\n",
       "        vertical-align: top;\n",
       "    }\n",
       "\n",
       "    .dataframe thead th {\n",
       "        text-align: right;\n",
       "    }\n",
       "</style>\n",
       "<table border=\"1\" class=\"dataframe\">\n",
       "  <thead>\n",
       "    <tr style=\"text-align: right;\">\n",
       "      <th></th>\n",
       "      <th>ID</th>\n",
       "      <th>AGE</th>\n",
       "      <th>BILL_AMT1</th>\n",
       "      <th>BILL_AMT2</th>\n",
       "      <th>BILL_AMT3</th>\n",
       "      <th>BILL_AMT4</th>\n",
       "      <th>BILL_AMT5</th>\n",
       "      <th>BILL_AMT6</th>\n",
       "      <th>default_payment_next_month</th>\n",
       "      <th>EDUCATION</th>\n",
       "      <th>...</th>\n",
       "      <th>PAY_4</th>\n",
       "      <th>PAY_5</th>\n",
       "      <th>PAY_6</th>\n",
       "      <th>PAY_AMT1</th>\n",
       "      <th>PAY_AMT2</th>\n",
       "      <th>PAY_AMT3</th>\n",
       "      <th>PAY_AMT4</th>\n",
       "      <th>PAY_AMT5</th>\n",
       "      <th>PAY_AMT6</th>\n",
       "      <th>SEX</th>\n",
       "    </tr>\n",
       "  </thead>\n",
       "  <tbody>\n",
       "    <tr>\n",
       "      <th>0</th>\n",
       "      <td>4317</td>\n",
       "      <td>24</td>\n",
       "      <td>4050.0</td>\n",
       "      <td>5426.0</td>\n",
       "      <td>6743.0</td>\n",
       "      <td>8544.0</td>\n",
       "      <td>9858.0</td>\n",
       "      <td>1303.0</td>\n",
       "      <td>0</td>\n",
       "      <td>3</td>\n",
       "      <td>...</td>\n",
       "      <td>0</td>\n",
       "      <td>0</td>\n",
       "      <td>0</td>\n",
       "      <td>2000.0</td>\n",
       "      <td>2000.0</td>\n",
       "      <td>2000.0</td>\n",
       "      <td>2000.0</td>\n",
       "      <td>1000.0</td>\n",
       "      <td>0.0</td>\n",
       "      <td>1</td>\n",
       "    </tr>\n",
       "    <tr>\n",
       "      <th>1</th>\n",
       "      <td>25269</td>\n",
       "      <td>25</td>\n",
       "      <td>52109.0</td>\n",
       "      <td>43007.0</td>\n",
       "      <td>33481.0</td>\n",
       "      <td>28563.0</td>\n",
       "      <td>24065.0</td>\n",
       "      <td>2802.0</td>\n",
       "      <td>0</td>\n",
       "      <td>2</td>\n",
       "      <td>...</td>\n",
       "      <td>0</td>\n",
       "      <td>0</td>\n",
       "      <td>0</td>\n",
       "      <td>1565.0</td>\n",
       "      <td>3194.0</td>\n",
       "      <td>1200.0</td>\n",
       "      <td>6206.0</td>\n",
       "      <td>0.0</td>\n",
       "      <td>310.0</td>\n",
       "      <td>2</td>\n",
       "    </tr>\n",
       "    <tr>\n",
       "      <th>2</th>\n",
       "      <td>3372</td>\n",
       "      <td>36</td>\n",
       "      <td>45849.0</td>\n",
       "      <td>46909.0</td>\n",
       "      <td>47928.0</td>\n",
       "      <td>48731.0</td>\n",
       "      <td>49793.0</td>\n",
       "      <td>50812.0</td>\n",
       "      <td>0</td>\n",
       "      <td>2</td>\n",
       "      <td>...</td>\n",
       "      <td>0</td>\n",
       "      <td>0</td>\n",
       "      <td>0</td>\n",
       "      <td>2100.0</td>\n",
       "      <td>2100.0</td>\n",
       "      <td>1900.0</td>\n",
       "      <td>2000.0</td>\n",
       "      <td>2000.0</td>\n",
       "      <td>2100.0</td>\n",
       "      <td>2</td>\n",
       "    </tr>\n",
       "    <tr>\n",
       "      <th>3</th>\n",
       "      <td>14340</td>\n",
       "      <td>36</td>\n",
       "      <td>0.0</td>\n",
       "      <td>250.0</td>\n",
       "      <td>79.0</td>\n",
       "      <td>79.0</td>\n",
       "      <td>290.0</td>\n",
       "      <td>106.0</td>\n",
       "      <td>1</td>\n",
       "      <td>1</td>\n",
       "      <td>...</td>\n",
       "      <td>-1</td>\n",
       "      <td>-1</td>\n",
       "      <td>-1</td>\n",
       "      <td>250.0</td>\n",
       "      <td>79.0</td>\n",
       "      <td>0.0</td>\n",
       "      <td>290.0</td>\n",
       "      <td>106.0</td>\n",
       "      <td>66.0</td>\n",
       "      <td>1</td>\n",
       "    </tr>\n",
       "    <tr>\n",
       "      <th>4</th>\n",
       "      <td>18417</td>\n",
       "      <td>24</td>\n",
       "      <td>30767.0</td>\n",
       "      <td>28818.0</td>\n",
       "      <td>30411.0</td>\n",
       "      <td>28805.0</td>\n",
       "      <td>26895.0</td>\n",
       "      <td>27162.0</td>\n",
       "      <td>0</td>\n",
       "      <td>2</td>\n",
       "      <td>...</td>\n",
       "      <td>0</td>\n",
       "      <td>0</td>\n",
       "      <td>0</td>\n",
       "      <td>1600.0</td>\n",
       "      <td>2517.0</td>\n",
       "      <td>4006.0</td>\n",
       "      <td>2000.0</td>\n",
       "      <td>1000.0</td>\n",
       "      <td>1500.0</td>\n",
       "      <td>2</td>\n",
       "    </tr>\n",
       "  </tbody>\n",
       "</table>\n",
       "<p>5 rows × 25 columns</p>\n",
       "</div>"
      ],
      "text/plain": [
       "      ID  AGE  BILL_AMT1  BILL_AMT2  BILL_AMT3  BILL_AMT4  BILL_AMT5  \\\n",
       "0   4317   24     4050.0     5426.0     6743.0     8544.0     9858.0   \n",
       "1  25269   25    52109.0    43007.0    33481.0    28563.0    24065.0   \n",
       "2   3372   36    45849.0    46909.0    47928.0    48731.0    49793.0   \n",
       "3  14340   36        0.0      250.0       79.0       79.0      290.0   \n",
       "4  18417   24    30767.0    28818.0    30411.0    28805.0    26895.0   \n",
       "\n",
       "   BILL_AMT6  default_payment_next_month  EDUCATION  ...  PAY_4  PAY_5  PAY_6  \\\n",
       "0     1303.0                           0          3  ...      0      0      0   \n",
       "1     2802.0                           0          2  ...      0      0      0   \n",
       "2    50812.0                           0          2  ...      0      0      0   \n",
       "3      106.0                           1          1  ...     -1     -1     -1   \n",
       "4    27162.0                           0          2  ...      0      0      0   \n",
       "\n",
       "   PAY_AMT1  PAY_AMT2  PAY_AMT3  PAY_AMT4  PAY_AMT5  PAY_AMT6  SEX  \n",
       "0    2000.0    2000.0    2000.0    2000.0    1000.0       0.0    1  \n",
       "1    1565.0    3194.0    1200.0    6206.0       0.0     310.0    2  \n",
       "2    2100.0    2100.0    1900.0    2000.0    2000.0    2100.0    2  \n",
       "3     250.0      79.0       0.0     290.0     106.0      66.0    1  \n",
       "4    1600.0    2517.0    4006.0    2000.0    1000.0    1500.0    2  \n",
       "\n",
       "[5 rows x 25 columns]"
      ]
     },
     "execution_count": 3,
     "metadata": {},
     "output_type": "execute_result"
    }
   ],
   "source": [
    "df = pd.read_csv(\"../Training_InputFileFromDB/InputFile.csv\")\n",
    "df.head()"
   ]
  },
  {
   "cell_type": "markdown",
   "metadata": {},
   "source": [
    "Firstly, Null values need to be checked, \n",
    "however, after checking this dataset, there are \n",
    "no null values. Then, column ID has been \n",
    "removed from the data because it contains just \n",
    "a normal serial number of observations."
   ]
  },
  {
   "cell_type": "code",
   "execution_count": 4,
   "metadata": {
    "execution": {
     "iopub.execute_input": "2021-06-28T14:30:38.025929Z",
     "iopub.status.busy": "2021-06-28T14:30:38.0256Z",
     "iopub.status.idle": "2021-06-28T14:30:38.03772Z",
     "shell.execute_reply": "2021-06-28T14:30:38.036625Z",
     "shell.execute_reply.started": "2021-06-28T14:30:38.025902Z"
    }
   },
   "outputs": [],
   "source": [
    "df.drop(['ID'], axis=1, inplace=True) # Deleting column ID"
   ]
  },
  {
   "cell_type": "code",
   "execution_count": 5,
   "metadata": {
    "execution": {
     "iopub.execute_input": "2021-06-28T14:30:50.469136Z",
     "iopub.status.busy": "2021-06-28T14:30:50.468741Z",
     "iopub.status.idle": "2021-06-28T14:30:50.481916Z",
     "shell.execute_reply": "2021-06-28T14:30:50.480771Z",
     "shell.execute_reply.started": "2021-06-28T14:30:50.469098Z"
    }
   },
   "outputs": [
    {
     "data": {
      "text/plain": [
       "AGE                           0\n",
       "BILL_AMT1                     0\n",
       "BILL_AMT2                     0\n",
       "BILL_AMT3                     0\n",
       "BILL_AMT4                     0\n",
       "BILL_AMT5                     0\n",
       "BILL_AMT6                     0\n",
       "default_payment_next_month    0\n",
       "EDUCATION                     0\n",
       "LIMIT_BAL                     0\n",
       "MARRIAGE                      0\n",
       "PAY_0                         0\n",
       "PAY_2                         0\n",
       "PAY_3                         0\n",
       "PAY_4                         0\n",
       "PAY_5                         0\n",
       "PAY_6                         0\n",
       "PAY_AMT1                      0\n",
       "PAY_AMT2                      0\n",
       "PAY_AMT3                      0\n",
       "PAY_AMT4                      0\n",
       "PAY_AMT5                      0\n",
       "PAY_AMT6                      0\n",
       "SEX                           0\n",
       "dtype: int64"
      ]
     },
     "execution_count": 5,
     "metadata": {},
     "output_type": "execute_result"
    }
   ],
   "source": [
    "df.isnull().sum() # No null values."
   ]
  },
  {
   "cell_type": "code",
   "execution_count": 6,
   "metadata": {
    "execution": {
     "iopub.execute_input": "2021-06-28T14:31:01.088983Z",
     "iopub.status.busy": "2021-06-28T14:31:01.088422Z",
     "iopub.status.idle": "2021-06-28T14:31:01.097146Z",
     "shell.execute_reply": "2021-06-28T14:31:01.095741Z",
     "shell.execute_reply.started": "2021-06-28T14:31:01.088931Z"
    }
   },
   "outputs": [
    {
     "data": {
      "text/plain": [
       "(30000, 24)"
      ]
     },
     "execution_count": 6,
     "metadata": {},
     "output_type": "execute_result"
    }
   ],
   "source": [
    "df.shape   # Shape of DataFrame."
   ]
  },
  {
   "cell_type": "code",
   "execution_count": 7,
   "metadata": {
    "execution": {
     "iopub.execute_input": "2021-06-28T14:31:10.937719Z",
     "iopub.status.busy": "2021-06-28T14:31:10.937102Z",
     "iopub.status.idle": "2021-06-28T14:31:10.943021Z",
     "shell.execute_reply": "2021-06-28T14:31:10.942331Z",
     "shell.execute_reply.started": "2021-06-28T14:31:10.937674Z"
    }
   },
   "outputs": [
    {
     "data": {
      "text/plain": [
       "Index(['AGE', 'BILL_AMT1', 'BILL_AMT2', 'BILL_AMT3', 'BILL_AMT4', 'BILL_AMT5',\n",
       "       'BILL_AMT6', 'default_payment_next_month', 'EDUCATION', 'LIMIT_BAL',\n",
       "       'MARRIAGE', 'PAY_0', 'PAY_2', 'PAY_3', 'PAY_4', 'PAY_5', 'PAY_6',\n",
       "       'PAY_AMT1', 'PAY_AMT2', 'PAY_AMT3', 'PAY_AMT4', 'PAY_AMT5', 'PAY_AMT6',\n",
       "       'SEX'],\n",
       "      dtype='object')"
      ]
     },
     "execution_count": 7,
     "metadata": {},
     "output_type": "execute_result"
    }
   ],
   "source": [
    "df.columns # Columns of DataFrame"
   ]
  },
  {
   "cell_type": "code",
   "execution_count": 8,
   "metadata": {
    "execution": {
     "iopub.execute_input": "2021-06-28T14:31:24.458082Z",
     "iopub.status.busy": "2021-06-28T14:31:24.457496Z",
     "iopub.status.idle": "2021-06-28T14:31:24.565627Z",
     "shell.execute_reply": "2021-06-28T14:31:24.564526Z",
     "shell.execute_reply.started": "2021-06-28T14:31:24.458038Z"
    }
   },
   "outputs": [
    {
     "data": {
      "text/html": [
       "<div>\n",
       "<style scoped>\n",
       "    .dataframe tbody tr th:only-of-type {\n",
       "        vertical-align: middle;\n",
       "    }\n",
       "\n",
       "    .dataframe tbody tr th {\n",
       "        vertical-align: top;\n",
       "    }\n",
       "\n",
       "    .dataframe thead th {\n",
       "        text-align: right;\n",
       "    }\n",
       "</style>\n",
       "<table border=\"1\" class=\"dataframe\">\n",
       "  <thead>\n",
       "    <tr style=\"text-align: right;\">\n",
       "      <th></th>\n",
       "      <th>AGE</th>\n",
       "      <th>BILL_AMT1</th>\n",
       "      <th>BILL_AMT2</th>\n",
       "      <th>BILL_AMT3</th>\n",
       "      <th>BILL_AMT4</th>\n",
       "      <th>BILL_AMT5</th>\n",
       "      <th>BILL_AMT6</th>\n",
       "      <th>default_payment_next_month</th>\n",
       "      <th>EDUCATION</th>\n",
       "      <th>LIMIT_BAL</th>\n",
       "      <th>...</th>\n",
       "      <th>PAY_4</th>\n",
       "      <th>PAY_5</th>\n",
       "      <th>PAY_6</th>\n",
       "      <th>PAY_AMT1</th>\n",
       "      <th>PAY_AMT2</th>\n",
       "      <th>PAY_AMT3</th>\n",
       "      <th>PAY_AMT4</th>\n",
       "      <th>PAY_AMT5</th>\n",
       "      <th>PAY_AMT6</th>\n",
       "      <th>SEX</th>\n",
       "    </tr>\n",
       "  </thead>\n",
       "  <tbody>\n",
       "    <tr>\n",
       "      <th>count</th>\n",
       "      <td>30000.000000</td>\n",
       "      <td>30000.000000</td>\n",
       "      <td>30000.000000</td>\n",
       "      <td>3.000000e+04</td>\n",
       "      <td>30000.000000</td>\n",
       "      <td>30000.000000</td>\n",
       "      <td>30000.000000</td>\n",
       "      <td>30000.000000</td>\n",
       "      <td>30000.000000</td>\n",
       "      <td>30000.000000</td>\n",
       "      <td>...</td>\n",
       "      <td>30000.000000</td>\n",
       "      <td>30000.000000</td>\n",
       "      <td>30000.000000</td>\n",
       "      <td>30000.000000</td>\n",
       "      <td>3.000000e+04</td>\n",
       "      <td>30000.00000</td>\n",
       "      <td>30000.000000</td>\n",
       "      <td>30000.000000</td>\n",
       "      <td>30000.000000</td>\n",
       "      <td>30000.000000</td>\n",
       "    </tr>\n",
       "    <tr>\n",
       "      <th>mean</th>\n",
       "      <td>35.485500</td>\n",
       "      <td>51223.330900</td>\n",
       "      <td>49179.075167</td>\n",
       "      <td>4.701315e+04</td>\n",
       "      <td>43262.948967</td>\n",
       "      <td>40311.400967</td>\n",
       "      <td>38871.760400</td>\n",
       "      <td>0.221200</td>\n",
       "      <td>1.853133</td>\n",
       "      <td>167484.322667</td>\n",
       "      <td>...</td>\n",
       "      <td>-0.220667</td>\n",
       "      <td>-0.266200</td>\n",
       "      <td>-0.291100</td>\n",
       "      <td>5663.580500</td>\n",
       "      <td>5.921163e+03</td>\n",
       "      <td>5225.68150</td>\n",
       "      <td>4826.076867</td>\n",
       "      <td>4799.387633</td>\n",
       "      <td>5215.502567</td>\n",
       "      <td>1.603733</td>\n",
       "    </tr>\n",
       "    <tr>\n",
       "      <th>std</th>\n",
       "      <td>9.217904</td>\n",
       "      <td>73635.860576</td>\n",
       "      <td>71173.768783</td>\n",
       "      <td>6.934939e+04</td>\n",
       "      <td>64332.856134</td>\n",
       "      <td>60797.155770</td>\n",
       "      <td>59554.107537</td>\n",
       "      <td>0.415062</td>\n",
       "      <td>0.790349</td>\n",
       "      <td>129747.661567</td>\n",
       "      <td>...</td>\n",
       "      <td>1.169139</td>\n",
       "      <td>1.133187</td>\n",
       "      <td>1.149988</td>\n",
       "      <td>16563.280354</td>\n",
       "      <td>2.304087e+04</td>\n",
       "      <td>17606.96147</td>\n",
       "      <td>15666.159744</td>\n",
       "      <td>15278.305679</td>\n",
       "      <td>17777.465775</td>\n",
       "      <td>0.489129</td>\n",
       "    </tr>\n",
       "    <tr>\n",
       "      <th>min</th>\n",
       "      <td>21.000000</td>\n",
       "      <td>-165580.000000</td>\n",
       "      <td>-69777.000000</td>\n",
       "      <td>-1.572640e+05</td>\n",
       "      <td>-170000.000000</td>\n",
       "      <td>-81334.000000</td>\n",
       "      <td>-339603.000000</td>\n",
       "      <td>0.000000</td>\n",
       "      <td>0.000000</td>\n",
       "      <td>10000.000000</td>\n",
       "      <td>...</td>\n",
       "      <td>-2.000000</td>\n",
       "      <td>-2.000000</td>\n",
       "      <td>-2.000000</td>\n",
       "      <td>0.000000</td>\n",
       "      <td>0.000000e+00</td>\n",
       "      <td>0.00000</td>\n",
       "      <td>0.000000</td>\n",
       "      <td>0.000000</td>\n",
       "      <td>0.000000</td>\n",
       "      <td>1.000000</td>\n",
       "    </tr>\n",
       "    <tr>\n",
       "      <th>25%</th>\n",
       "      <td>28.000000</td>\n",
       "      <td>3558.750000</td>\n",
       "      <td>2984.750000</td>\n",
       "      <td>2.666250e+03</td>\n",
       "      <td>2326.750000</td>\n",
       "      <td>1763.000000</td>\n",
       "      <td>1256.000000</td>\n",
       "      <td>0.000000</td>\n",
       "      <td>1.000000</td>\n",
       "      <td>50000.000000</td>\n",
       "      <td>...</td>\n",
       "      <td>-1.000000</td>\n",
       "      <td>-1.000000</td>\n",
       "      <td>-1.000000</td>\n",
       "      <td>1000.000000</td>\n",
       "      <td>8.330000e+02</td>\n",
       "      <td>390.00000</td>\n",
       "      <td>296.000000</td>\n",
       "      <td>252.500000</td>\n",
       "      <td>117.750000</td>\n",
       "      <td>1.000000</td>\n",
       "    </tr>\n",
       "    <tr>\n",
       "      <th>50%</th>\n",
       "      <td>34.000000</td>\n",
       "      <td>22381.500000</td>\n",
       "      <td>21200.000000</td>\n",
       "      <td>2.008850e+04</td>\n",
       "      <td>19052.000000</td>\n",
       "      <td>18104.500000</td>\n",
       "      <td>17071.000000</td>\n",
       "      <td>0.000000</td>\n",
       "      <td>2.000000</td>\n",
       "      <td>140000.000000</td>\n",
       "      <td>...</td>\n",
       "      <td>0.000000</td>\n",
       "      <td>0.000000</td>\n",
       "      <td>0.000000</td>\n",
       "      <td>2100.000000</td>\n",
       "      <td>2.009000e+03</td>\n",
       "      <td>1800.00000</td>\n",
       "      <td>1500.000000</td>\n",
       "      <td>1500.000000</td>\n",
       "      <td>1500.000000</td>\n",
       "      <td>2.000000</td>\n",
       "    </tr>\n",
       "    <tr>\n",
       "      <th>75%</th>\n",
       "      <td>41.000000</td>\n",
       "      <td>67091.000000</td>\n",
       "      <td>64006.250000</td>\n",
       "      <td>6.016475e+04</td>\n",
       "      <td>54506.000000</td>\n",
       "      <td>50190.500000</td>\n",
       "      <td>49198.250000</td>\n",
       "      <td>0.000000</td>\n",
       "      <td>2.000000</td>\n",
       "      <td>240000.000000</td>\n",
       "      <td>...</td>\n",
       "      <td>0.000000</td>\n",
       "      <td>0.000000</td>\n",
       "      <td>0.000000</td>\n",
       "      <td>5006.000000</td>\n",
       "      <td>5.000000e+03</td>\n",
       "      <td>4505.00000</td>\n",
       "      <td>4013.250000</td>\n",
       "      <td>4031.500000</td>\n",
       "      <td>4000.000000</td>\n",
       "      <td>2.000000</td>\n",
       "    </tr>\n",
       "    <tr>\n",
       "      <th>max</th>\n",
       "      <td>79.000000</td>\n",
       "      <td>964511.000000</td>\n",
       "      <td>983931.000000</td>\n",
       "      <td>1.664089e+06</td>\n",
       "      <td>891586.000000</td>\n",
       "      <td>927171.000000</td>\n",
       "      <td>961664.000000</td>\n",
       "      <td>1.000000</td>\n",
       "      <td>6.000000</td>\n",
       "      <td>1000000.000000</td>\n",
       "      <td>...</td>\n",
       "      <td>8.000000</td>\n",
       "      <td>8.000000</td>\n",
       "      <td>8.000000</td>\n",
       "      <td>873552.000000</td>\n",
       "      <td>1.684259e+06</td>\n",
       "      <td>896040.00000</td>\n",
       "      <td>621000.000000</td>\n",
       "      <td>426529.000000</td>\n",
       "      <td>528666.000000</td>\n",
       "      <td>2.000000</td>\n",
       "    </tr>\n",
       "  </tbody>\n",
       "</table>\n",
       "<p>8 rows × 24 columns</p>\n",
       "</div>"
      ],
      "text/plain": [
       "                AGE      BILL_AMT1      BILL_AMT2     BILL_AMT3  \\\n",
       "count  30000.000000   30000.000000   30000.000000  3.000000e+04   \n",
       "mean      35.485500   51223.330900   49179.075167  4.701315e+04   \n",
       "std        9.217904   73635.860576   71173.768783  6.934939e+04   \n",
       "min       21.000000 -165580.000000  -69777.000000 -1.572640e+05   \n",
       "25%       28.000000    3558.750000    2984.750000  2.666250e+03   \n",
       "50%       34.000000   22381.500000   21200.000000  2.008850e+04   \n",
       "75%       41.000000   67091.000000   64006.250000  6.016475e+04   \n",
       "max       79.000000  964511.000000  983931.000000  1.664089e+06   \n",
       "\n",
       "           BILL_AMT4      BILL_AMT5      BILL_AMT6  \\\n",
       "count   30000.000000   30000.000000   30000.000000   \n",
       "mean    43262.948967   40311.400967   38871.760400   \n",
       "std     64332.856134   60797.155770   59554.107537   \n",
       "min   -170000.000000  -81334.000000 -339603.000000   \n",
       "25%      2326.750000    1763.000000    1256.000000   \n",
       "50%     19052.000000   18104.500000   17071.000000   \n",
       "75%     54506.000000   50190.500000   49198.250000   \n",
       "max    891586.000000  927171.000000  961664.000000   \n",
       "\n",
       "       default_payment_next_month     EDUCATION       LIMIT_BAL  ...  \\\n",
       "count                30000.000000  30000.000000    30000.000000  ...   \n",
       "mean                     0.221200      1.853133   167484.322667  ...   \n",
       "std                      0.415062      0.790349   129747.661567  ...   \n",
       "min                      0.000000      0.000000    10000.000000  ...   \n",
       "25%                      0.000000      1.000000    50000.000000  ...   \n",
       "50%                      0.000000      2.000000   140000.000000  ...   \n",
       "75%                      0.000000      2.000000   240000.000000  ...   \n",
       "max                      1.000000      6.000000  1000000.000000  ...   \n",
       "\n",
       "              PAY_4         PAY_5         PAY_6       PAY_AMT1      PAY_AMT2  \\\n",
       "count  30000.000000  30000.000000  30000.000000   30000.000000  3.000000e+04   \n",
       "mean      -0.220667     -0.266200     -0.291100    5663.580500  5.921163e+03   \n",
       "std        1.169139      1.133187      1.149988   16563.280354  2.304087e+04   \n",
       "min       -2.000000     -2.000000     -2.000000       0.000000  0.000000e+00   \n",
       "25%       -1.000000     -1.000000     -1.000000    1000.000000  8.330000e+02   \n",
       "50%        0.000000      0.000000      0.000000    2100.000000  2.009000e+03   \n",
       "75%        0.000000      0.000000      0.000000    5006.000000  5.000000e+03   \n",
       "max        8.000000      8.000000      8.000000  873552.000000  1.684259e+06   \n",
       "\n",
       "           PAY_AMT3       PAY_AMT4       PAY_AMT5       PAY_AMT6           SEX  \n",
       "count   30000.00000   30000.000000   30000.000000   30000.000000  30000.000000  \n",
       "mean     5225.68150    4826.076867    4799.387633    5215.502567      1.603733  \n",
       "std     17606.96147   15666.159744   15278.305679   17777.465775      0.489129  \n",
       "min         0.00000       0.000000       0.000000       0.000000      1.000000  \n",
       "25%       390.00000     296.000000     252.500000     117.750000      1.000000  \n",
       "50%      1800.00000    1500.000000    1500.000000    1500.000000      2.000000  \n",
       "75%      4505.00000    4013.250000    4031.500000    4000.000000      2.000000  \n",
       "max    896040.00000  621000.000000  426529.000000  528666.000000      2.000000  \n",
       "\n",
       "[8 rows x 24 columns]"
      ]
     },
     "execution_count": 8,
     "metadata": {},
     "output_type": "execute_result"
    }
   ],
   "source": [
    "df.describe()"
   ]
  },
  {
   "cell_type": "markdown",
   "metadata": {},
   "source": [
    "# **Correlation Matrix Plot**\n",
    "We can demonstrate that no variables \n",
    "are strongly correlated with the Target variable \n",
    "(default). The ‘PAY_’ variables have a strong \n",
    "correlation between them and have a weak \n",
    "positive correlation with the target \n",
    "variable(default). All the ‘BILL_AMT’ \n",
    "variables have a good positive correlation \n",
    "between them. Also, ‘LIMIT_BAL’ has a good \n",
    "positive correlation with ‘BILL_AMT’ \n",
    "variables."
   ]
  },
  {
   "cell_type": "code",
   "execution_count": null,
   "metadata": {
    "execution": {
     "iopub.execute_input": "2021-06-28T14:32:13.119326Z",
     "iopub.status.busy": "2021-06-28T14:32:13.118936Z",
     "iopub.status.idle": "2021-06-28T14:32:15.932241Z",
     "shell.execute_reply": "2021-06-28T14:32:15.931242Z",
     "shell.execute_reply.started": "2021-06-28T14:32:13.119293Z"
    }
   },
   "outputs": [],
   "source": [
    "corr = df.corr()\n",
    "plt.figure(figsize=(25,15))\n",
    "sns.heatmap(corr, annot=True)"
   ]
  },
  {
   "cell_type": "markdown",
   "metadata": {},
   "source": [
    "# **Splitting data into train and test**\n",
    "We have split this data into 75% and 25% for \n",
    "train and test sets respectively using \n",
    "sklearn.model_selection train_test_split. We \n",
    "created x_train, x_test, y_train and y_test.\n",
    "Also, we have transformed the data using \n",
    "sklearn. preprocessing MinMaxScaler. Here, \n",
    "we have used x_train and x_test to transform \n",
    "them into xtrain_scaler and xtest_scalar \n",
    "because there are many observations with large \n",
    "ranges such as ‘TOTAL_PAY’, \n",
    "‘LIMIT_BALANCE’ and ‘TOTAL_BILL’. \n",
    "We are using MinMaxScaler to scale our \n",
    "variables and convert them in the range 0-1. \n",
    "Since all variables are transformed using the \n",
    "same MinMaxScaler in the same range 0-1, so \n",
    "the degree to which it affects our target variable \n",
    "will become equal and will avoid variables \n",
    "from being biased because of large range \n",
    "values."
   ]
  },
  {
   "cell_type": "code",
   "execution_count": null,
   "metadata": {
    "execution": {
     "iopub.execute_input": "2021-06-28T14:33:09.167332Z",
     "iopub.status.busy": "2021-06-28T14:33:09.166924Z",
     "iopub.status.idle": "2021-06-28T14:33:09.497822Z",
     "shell.execute_reply": "2021-06-28T14:33:09.496764Z",
     "shell.execute_reply.started": "2021-06-28T14:33:09.167302Z"
    }
   },
   "outputs": [],
   "source": [
    "from sklearn.model_selection import train_test_split\n",
    "from sklearn.preprocessing import MinMaxScaler"
   ]
  },
  {
   "cell_type": "code",
   "execution_count": null,
   "metadata": {
    "execution": {
     "iopub.execute_input": "2021-06-28T14:33:18.215398Z",
     "iopub.status.busy": "2021-06-28T14:33:18.215002Z",
     "iopub.status.idle": "2021-06-28T14:33:18.262976Z",
     "shell.execute_reply": "2021-06-28T14:33:18.261978Z",
     "shell.execute_reply.started": "2021-06-28T14:33:18.215362Z"
    }
   },
   "outputs": [],
   "source": [
    "x = df[['LIMIT_BAL', 'SEX', 'EDUCATION', 'MARRIAGE', 'AGE', 'PAY_0', 'PAY_2',\n",
    "       'PAY_3', 'PAY_4', 'PAY_5', 'PAY_6', 'BILL_AMT1', 'BILL_AMT2',\n",
    "       'BILL_AMT3', 'BILL_AMT4', 'BILL_AMT5', 'BILL_AMT6', 'PAY_AMT1',\n",
    "       'PAY_AMT2', 'PAY_AMT3', 'PAY_AMT4', 'PAY_AMT5', 'PAY_AMT6']]\n",
    "y = df['default.payment.next.month']\n",
    "\n",
    "x_train, x_test, y_train, y_test = train_test_split(x, y, test_size=0.25, random_state=3)\n",
    "\n",
    "xtrain_scaler = MinMaxScaler().fit_transform(x_train)\n",
    "xtest_scaler = MinMaxScaler().fit_transform(x_test)"
   ]
  },
  {
   "cell_type": "markdown",
   "metadata": {},
   "source": [
    "# **Machine Learning Models:**\n",
    "This project will use 5 Machine Learning models:\n",
    "# **1. KNN:**"
   ]
  },
  {
   "cell_type": "code",
   "execution_count": null,
   "metadata": {
    "execution": {
     "iopub.execute_input": "2021-06-28T14:39:52.180252Z",
     "iopub.status.busy": "2021-06-28T14:39:52.179893Z",
     "iopub.status.idle": "2021-06-28T14:39:52.3273Z",
     "shell.execute_reply": "2021-06-28T14:39:52.326447Z",
     "shell.execute_reply.started": "2021-06-28T14:39:52.180223Z"
    }
   },
   "outputs": [],
   "source": [
    "from sklearn.neighbors import KNeighborsClassifier\n",
    "from sklearn import metrics\n",
    "from sklearn.metrics import plot_confusion_matrix\n",
    "from sklearn.metrics import confusion_matrix"
   ]
  },
  {
   "cell_type": "markdown",
   "metadata": {},
   "source": [
    "> ***Checking for which K, model is generating more accuracy. Using normal train and test data.***"
   ]
  },
  {
   "cell_type": "code",
   "execution_count": null,
   "metadata": {
    "execution": {
     "iopub.execute_input": "2021-06-28T14:41:32.56926Z",
     "iopub.status.busy": "2021-06-28T14:41:32.568832Z",
     "iopub.status.idle": "2021-06-28T14:43:09.224359Z",
     "shell.execute_reply": "2021-06-28T14:43:09.223289Z",
     "shell.execute_reply.started": "2021-06-28T14:41:32.569217Z"
    }
   },
   "outputs": [],
   "source": [
    "i = 1\n",
    "k = np.arange(1, 30, 1)\n",
    "k_val_acc = []\n",
    "for i in k:\n",
    "    knn = KNeighborsClassifier(n_neighbors=i)\n",
    "    knn.fit(x_train, y_train)              # Fitting model with x_train and y_train\n",
    "    y_pred = knn.predict(x_test)           # Predicting the results\n",
    "    k_val_acc.append(metrics.accuracy_score(y_test, y_pred))\n",
    "    print(\"Accuracy for K = {0} is: \".format(i),metrics.accuracy_score(y_test, y_pred))\n",
    "    \n",
    "m = max(k_val_acc)\n",
    "\n",
    "print(\"We got max accuracy of {0} when K = {1}\". format(max(k_val_acc), [i+1 for i, j in enumerate(k_val_acc) if j == m]))"
   ]
  },
  {
   "cell_type": "markdown",
   "metadata": {},
   "source": [
    "> ***Checking for which K, model is generating more accuracy. Using transformed train and test data.***"
   ]
  },
  {
   "cell_type": "code",
   "execution_count": null,
   "metadata": {
    "execution": {
     "iopub.execute_input": "2021-06-28T14:45:18.515009Z",
     "iopub.status.busy": "2021-06-28T14:45:18.514528Z",
     "iopub.status.idle": "2021-06-28T14:46:58.570801Z",
     "shell.execute_reply": "2021-06-28T14:46:58.569814Z",
     "shell.execute_reply.started": "2021-06-28T14:45:18.514967Z"
    }
   },
   "outputs": [],
   "source": [
    "i = 1\n",
    "k = np.arange(1, 30, 1)\n",
    "k_val_acc_mms = []\n",
    "for i in k:\n",
    "    knn = KNeighborsClassifier(n_neighbors=i)\n",
    "    knn.fit(xtrain_scaler, y_train)              # Fitting model with xtrain_scaler and y_train\n",
    "    y_pred_mms = knn.predict(xtest_scaler)       # Predicting the results\n",
    "    k_val_acc_mms.append(metrics.accuracy_score(y_test, y_pred_mms))\n",
    "    print(\"Accuracy for K = {0} is: \".format(i),metrics.accuracy_score(y_test, y_pred_mms))\n",
    "    \n",
    "m = max(k_val_acc_mms)\n",
    "\n",
    "print(\"We got max accuracy of {0} when K = {1}\". format(max(k_val_acc_mms), [i+1 for i, j in enumerate(k_val_acc_mms) if j == m]))"
   ]
  },
  {
   "cell_type": "markdown",
   "metadata": {},
   "source": [
    "**Confusion Matrix of model with transformed data:**"
   ]
  },
  {
   "cell_type": "code",
   "execution_count": null,
   "metadata": {
    "execution": {
     "iopub.execute_input": "2021-06-28T14:48:35.180004Z",
     "iopub.status.busy": "2021-06-28T14:48:35.179673Z",
     "iopub.status.idle": "2021-06-28T14:48:38.978678Z",
     "shell.execute_reply": "2021-06-28T14:48:38.977636Z",
     "shell.execute_reply.started": "2021-06-28T14:48:35.179977Z"
    }
   },
   "outputs": [],
   "source": [
    "plot_confusion_matrix(knn, xtest_scaler, y_test)\n",
    "\n",
    "conf_metr = metrics.confusion_matrix(y_test, y_pred_mms)\n",
    "\n",
    "print(\"Confusion Matrix: \\n {}\".format(conf_metr))\n",
    "print(metrics.classification_report(y_test,y_pred_mms))\n",
    "print(\"Accuracy:\",metrics.accuracy_score(y_test, y_pred_mms))\n",
    "print(\"Recall/Sensitivity/True Positive Rate:\",metrics.recall_score(y_test, y_pred_mms))\n",
    "print(\"Precision:\",metrics.precision_score(y_test, y_pred_mms))"
   ]
  },
  {
   "cell_type": "code",
   "execution_count": null,
   "metadata": {
    "execution": {
     "iopub.execute_input": "2021-06-28T14:54:56.27884Z",
     "iopub.status.busy": "2021-06-28T14:54:56.27848Z",
     "iopub.status.idle": "2021-06-28T14:54:59.789679Z",
     "shell.execute_reply": "2021-06-28T14:54:59.788892Z",
     "shell.execute_reply.started": "2021-06-28T14:54:56.27881Z"
    }
   },
   "outputs": [],
   "source": [
    "# ROC Curve:\n",
    "metrics.plot_roc_curve(knn, xtest_scaler, y_test)"
   ]
  },
  {
   "cell_type": "markdown",
   "metadata": {},
   "source": [
    "First, we checked for which K, our model has \n",
    "the best accuracy. We performed KNN two \n",
    "times, once with normal train and test sets and \n",
    "a second time with transformed \n",
    "(MinMaxScaler) train and test sets.\n",
    "1. During our first model, we found results as:\n",
    "* K: 28\n",
    "* Accuracy: 78.56 %\n",
    "2. During our second model of KNN with transformed sets:\n",
    "* K: 29\n",
    "* Accuracy: 81.78 %\n",
    "3. After plotting confusion matrix with transformed sets, we were able to get:\n",
    "* Accuracy: 81.78 % \n",
    "* Precision: 63.40 %\n",
    "* Recall: 33.06 %\n",
    "\n",
    "Shows ROC Curve and it can be \n",
    "observed that “Area Under the Curve” is 0.75. We can observe a decent ROC curve."
   ]
  },
  {
   "cell_type": "markdown",
   "metadata": {},
   "source": [
    "# **2. Logistic Regression:**"
   ]
  },
  {
   "cell_type": "code",
   "execution_count": null,
   "metadata": {
    "execution": {
     "iopub.execute_input": "2021-06-28T14:49:48.422822Z",
     "iopub.status.busy": "2021-06-28T14:49:48.422461Z",
     "iopub.status.idle": "2021-06-28T14:49:48.427853Z",
     "shell.execute_reply": "2021-06-28T14:49:48.426332Z",
     "shell.execute_reply.started": "2021-06-28T14:49:48.422793Z"
    }
   },
   "outputs": [],
   "source": [
    "from sklearn.linear_model import LogisticRegression\n",
    "from sklearn.model_selection import GridSearchCV"
   ]
  },
  {
   "cell_type": "markdown",
   "metadata": {},
   "source": [
    "> ***HyperParameter Tuned model with normal train and test data:***"
   ]
  },
  {
   "cell_type": "code",
   "execution_count": null,
   "metadata": {
    "execution": {
     "iopub.execute_input": "2021-06-28T14:50:46.096146Z",
     "iopub.status.busy": "2021-06-28T14:50:46.095747Z",
     "iopub.status.idle": "2021-06-28T14:51:03.477987Z",
     "shell.execute_reply": "2021-06-28T14:51:03.476554Z",
     "shell.execute_reply.started": "2021-06-28T14:50:46.096116Z"
    }
   },
   "outputs": [],
   "source": [
    "c_val = [0.001,0.01,0.1,0.5,1.0]\n",
    "\n",
    "logreg = LogisticRegression(solver = 'liblinear')\n",
    "hyperParam = [{'C':c_val}]\n",
    "\n",
    "gsv = GridSearchCV(logreg,hyperParam,cv=5,verbose=1)\n",
    "best_model = gsv.fit(x_train, y_train)                      # Fitting model with x_train and y_train\n",
    "logreg_pred = best_model.best_estimator_.predict(x_test)    # Predicting the results\n",
    "\n",
    "\n",
    "print(\"Best HyperParameter: \",gsv.best_params_)\n",
    "print(\"Best Accuracy :\",best_model.score(x_test, y_test))"
   ]
  },
  {
   "cell_type": "markdown",
   "metadata": {},
   "source": [
    "> ***HyperParameter Tuned model with transformed training and testing data:***"
   ]
  },
  {
   "cell_type": "code",
   "execution_count": null,
   "metadata": {
    "execution": {
     "iopub.execute_input": "2021-06-28T14:53:19.573439Z",
     "iopub.status.busy": "2021-06-28T14:53:19.572971Z",
     "iopub.status.idle": "2021-06-28T14:53:22.603437Z",
     "shell.execute_reply": "2021-06-28T14:53:22.602312Z",
     "shell.execute_reply.started": "2021-06-28T14:53:19.573407Z"
    }
   },
   "outputs": [],
   "source": [
    "c_val = [0.001,0.01,0.1,0.5,1.0]\n",
    "\n",
    "logreg = LogisticRegression(solver = 'liblinear')\n",
    "hyperParam = [{'C':c_val}]\n",
    "\n",
    "gsv = GridSearchCV(logreg,hyperParam,cv=5,verbose=1)\n",
    "best_model = gsv.fit(xtrain_scaler, y_train)                       # Fitting model with xtrain_scaler and y_train\n",
    "logreg_pred_mms = best_model.best_estimator_.predict(xtest_scaler) # Predicting the results\n",
    "\n",
    "print(\"Best HyperParameter: \",gsv.best_params_)\n",
    "print(\"Best Accuracy :\",best_model.score(xtest_scaler, y_test))"
   ]
  },
  {
   "cell_type": "markdown",
   "metadata": {},
   "source": [
    "**Confusion Matrix of model with transformed data:**"
   ]
  },
  {
   "cell_type": "code",
   "execution_count": null,
   "metadata": {
    "execution": {
     "iopub.execute_input": "2021-06-28T14:54:12.807324Z",
     "iopub.status.busy": "2021-06-28T14:54:12.806933Z",
     "iopub.status.idle": "2021-06-28T14:54:13.07535Z",
     "shell.execute_reply": "2021-06-28T14:54:13.074357Z",
     "shell.execute_reply.started": "2021-06-28T14:54:12.80729Z"
    }
   },
   "outputs": [],
   "source": [
    "plot_confusion_matrix(gsv,xtest_scaler, y_test)\n",
    "\n",
    "conf_metr = confusion_matrix(y_test, logreg_pred_mms)\n",
    "\n",
    "print(\"Confusion Matrix: \\n {}\".format(conf_metr))\n",
    "print(metrics.classification_report(y_test,logreg_pred_mms))\n",
    "print(\"Accuracy:\",metrics.accuracy_score(y_test, logreg_pred_mms))\n",
    "print(\"Recall/Sensitivity/True Positive Rate:\",metrics.recall_score(y_test, logreg_pred_mms))\n",
    "print(\"Precision:\",metrics.precision_score(y_test, logreg_pred_mms))"
   ]
  },
  {
   "cell_type": "code",
   "execution_count": null,
   "metadata": {
    "execution": {
     "iopub.execute_input": "2021-06-28T14:54:44.003458Z",
     "iopub.status.busy": "2021-06-28T14:54:44.002898Z",
     "iopub.status.idle": "2021-06-28T14:54:44.212628Z",
     "shell.execute_reply": "2021-06-28T14:54:44.211684Z",
     "shell.execute_reply.started": "2021-06-28T14:54:44.003426Z"
    }
   },
   "outputs": [],
   "source": [
    "# ROC Curve:\n",
    "metrics.plot_roc_curve(gsv, xtest_scaler, y_test)"
   ]
  },
  {
   "cell_type": "markdown",
   "metadata": {
    "execution": {
     "iopub.execute_input": "2021-06-28T14:55:36.325639Z",
     "iopub.status.busy": "2021-06-28T14:55:36.325002Z",
     "iopub.status.idle": "2021-06-28T14:55:36.335505Z",
     "shell.execute_reply": "2021-06-28T14:55:36.334283Z",
     "shell.execute_reply.started": "2021-06-28T14:55:36.325605Z"
    }
   },
   "source": [
    "Next, Logistic Regression was used for this \n",
    "dataset. This model is tuned by giving ‘C’ \n",
    "[0.001,0.01,0.1,0.5,1.0] and assigning the\n",
    "solver as ‘liblinear’. This model is \n",
    "hyperparameter tuned using sklearn’s \n",
    "GridSearchCV. We performed this model two \n",
    "times, once with normal train and test sets and \n",
    "a second time with transformed \n",
    "(MinMaxScaler) train and test sets.\n",
    "1. During our first model, we found results as:\n",
    "* C: 0.001\n",
    "* Accuracy: 78.81 %\n",
    "2. During our second model with transformed sets:\n",
    "* C: 1.0\n",
    "* Accuracy: 82.68 %\n",
    "3. After plotting confusion matrix with transformed sets, we were able to get:\n",
    "* Accuracy: 82.68 % \n",
    "* Precision: 68.74 %\n",
    "* Recall: 33.37 %\n",
    "\n",
    "Shows ROC Curve and it can be observed that “Area Under the Curve” is 0.73. The ROC Curve can be used to compare with other models, it showsthe area under the curve. Large values on Y-Axis demonstrates lower false negatives and higher true positives."
   ]
  },
  {
   "cell_type": "markdown",
   "metadata": {},
   "source": [
    "# **3. Decision Tree:**"
   ]
  },
  {
   "cell_type": "code",
   "execution_count": null,
   "metadata": {
    "execution": {
     "iopub.execute_input": "2021-06-28T15:04:01.087813Z",
     "iopub.status.busy": "2021-06-28T15:04:01.087267Z",
     "iopub.status.idle": "2021-06-28T15:04:01.134249Z",
     "shell.execute_reply": "2021-06-28T15:04:01.132316Z",
     "shell.execute_reply.started": "2021-06-28T15:04:01.087767Z"
    }
   },
   "outputs": [],
   "source": [
    "from sklearn.tree import DecisionTreeClassifier\n",
    "from sklearn import tree"
   ]
  },
  {
   "cell_type": "markdown",
   "metadata": {},
   "source": [
    "> ***Unpruned Tree with normal train and test data:***"
   ]
  },
  {
   "cell_type": "code",
   "execution_count": null,
   "metadata": {
    "execution": {
     "iopub.execute_input": "2021-06-28T15:04:39.739185Z",
     "iopub.status.busy": "2021-06-28T15:04:39.738816Z",
     "iopub.status.idle": "2021-06-28T15:04:40.297408Z",
     "shell.execute_reply": "2021-06-28T15:04:40.296144Z",
     "shell.execute_reply.started": "2021-06-28T15:04:39.739156Z"
    }
   },
   "outputs": [],
   "source": [
    "dtree_up = DecisionTreeClassifier()\n",
    "dtree_up.fit(x_train, y_train)                  # Fitting model with x_train and y_train\n",
    "dtree_pred_up = dtree_up.predict(x_test)        # Predicting the results\n",
    "print(\"Accuracy is: \",metrics.accuracy_score(y_test, dtree_pred_up))"
   ]
  },
  {
   "cell_type": "markdown",
   "metadata": {},
   "source": [
    "> ***Pruned Tree after applying model with normal train and test data:***"
   ]
  },
  {
   "cell_type": "code",
   "execution_count": null,
   "metadata": {
    "execution": {
     "iopub.execute_input": "2021-06-28T15:05:23.232552Z",
     "iopub.status.busy": "2021-06-28T15:05:23.232189Z",
     "iopub.status.idle": "2021-06-28T15:05:28.685365Z",
     "shell.execute_reply": "2021-06-28T15:05:28.684334Z",
     "shell.execute_reply.started": "2021-06-28T15:05:23.232524Z"
    }
   },
   "outputs": [],
   "source": [
    "i = 1\n",
    "d = np.arange(1, 20, 1)\n",
    "depth = []\n",
    "for i in d:\n",
    "    dtree = DecisionTreeClassifier(max_depth=i)\n",
    "    dtree.fit(x_train, y_train)                # Fitting model with x_train and y_train\n",
    "    dtree_pred = dtree.predict(x_test)         # Predicting the results\n",
    "    depth.append(metrics.accuracy_score(y_test, dtree_pred))\n",
    "    print(\"Accuracy when max_depth = {0}: \".format(i),metrics.accuracy_score(y_test, dtree_pred))\n",
    "\n",
    "m = max(depth)\n",
    "\n",
    "print(\"We got max accuracy of {0} when max_depth = {1}\". format(max(depth), [i+1 for i, j in enumerate(depth) if j == m]))"
   ]
  },
  {
   "cell_type": "markdown",
   "metadata": {},
   "source": [
    "> ***Pruned Tree applying model with transformed training and testing data:***"
   ]
  },
  {
   "cell_type": "code",
   "execution_count": null,
   "metadata": {
    "execution": {
     "iopub.execute_input": "2021-06-28T15:08:31.691882Z",
     "iopub.status.busy": "2021-06-28T15:08:31.691515Z",
     "iopub.status.idle": "2021-06-28T15:08:37.035609Z",
     "shell.execute_reply": "2021-06-28T15:08:37.034514Z",
     "shell.execute_reply.started": "2021-06-28T15:08:31.691854Z"
    }
   },
   "outputs": [],
   "source": [
    "i = 1\n",
    "d = np.arange(1, 20, 1)\n",
    "depth_mms = []\n",
    "for i in d:\n",
    "    dtree = DecisionTreeClassifier(max_depth=i)\n",
    "    dtree.fit(xtrain_scaler, y_train)             # Fitting model with xtrain_scaler and y_train\n",
    "    dtree_pred_mms = dtree.predict(xtest_scaler)  # Predicting the results\n",
    "    depth_mms.append(metrics.accuracy_score(y_test, dtree_pred_mms))\n",
    "    print(\"Accuracy when max_depth = {0}: \".format(i),metrics.accuracy_score(y_test, dtree_pred_mms))\n",
    "\n",
    "m = max(depth_mms)\n",
    "\n",
    "print(\"We got max accuracy of {0} when max_depth = {1}\". format(max(depth_mms), [i+1 for i, j in enumerate(depth_mms) if j == m]))"
   ]
  },
  {
   "cell_type": "markdown",
   "metadata": {},
   "source": [
    "**Confusion Matrix of Pruned Tree model with transformed training and testing data:**"
   ]
  },
  {
   "cell_type": "code",
   "execution_count": null,
   "metadata": {
    "execution": {
     "iopub.execute_input": "2021-06-28T15:09:24.693437Z",
     "iopub.status.busy": "2021-06-28T15:09:24.693071Z",
     "iopub.status.idle": "2021-06-28T15:09:24.917556Z",
     "shell.execute_reply": "2021-06-28T15:09:24.916514Z",
     "shell.execute_reply.started": "2021-06-28T15:09:24.693408Z"
    }
   },
   "outputs": [],
   "source": [
    "plot_confusion_matrix(dtree, xtest_scaler, y_test)\n",
    "\n",
    "conf_metr = metrics.confusion_matrix(y_test, dtree_pred_mms)\n",
    "\n",
    "print(\"Confusion Matrix: \\n {}\".format(conf_metr))\n",
    "print(metrics.classification_report(y_test,dtree_pred_mms))\n",
    "print(\"Accuracy:\",metrics.accuracy_score(y_test, dtree_pred_mms))\n",
    "print(\"Recall/Sensitivity/True Positive Rate:\",metrics.recall_score(y_test, dtree_pred_mms))\n",
    "print(\"Precision:\",metrics.precision_score(y_test, dtree_pred_mms))"
   ]
  },
  {
   "cell_type": "code",
   "execution_count": null,
   "metadata": {
    "execution": {
     "iopub.execute_input": "2021-06-28T15:09:38.726847Z",
     "iopub.status.busy": "2021-06-28T15:09:38.726433Z",
     "iopub.status.idle": "2021-06-28T15:09:38.89271Z",
     "shell.execute_reply": "2021-06-28T15:09:38.891802Z",
     "shell.execute_reply.started": "2021-06-28T15:09:38.726815Z"
    }
   },
   "outputs": [],
   "source": [
    "# ROC Curve:\n",
    "metrics.plot_roc_curve(dtree, xtest_scaler, y_test)"
   ]
  },
  {
   "cell_type": "markdown",
   "metadata": {},
   "source": [
    "**Visualizing Decision Tree**"
   ]
  },
  {
   "cell_type": "code",
   "execution_count": null,
   "metadata": {
    "execution": {
     "iopub.execute_input": "2021-06-28T15:11:30.178289Z",
     "iopub.status.busy": "2021-06-28T15:11:30.177902Z",
     "iopub.status.idle": "2021-06-28T15:11:41.92647Z",
     "shell.execute_reply": "2021-06-28T15:11:41.925434Z",
     "shell.execute_reply.started": "2021-06-28T15:11:30.178257Z"
    }
   },
   "outputs": [],
   "source": [
    "pip install pydotplus"
   ]
  },
  {
   "cell_type": "code",
   "execution_count": null,
   "metadata": {
    "execution": {
     "iopub.execute_input": "2021-06-28T15:11:53.195978Z",
     "iopub.status.busy": "2021-06-28T15:11:53.195549Z",
     "iopub.status.idle": "2021-06-28T15:11:53.207782Z",
     "shell.execute_reply": "2021-06-28T15:11:53.206647Z",
     "shell.execute_reply.started": "2021-06-28T15:11:53.195941Z"
    }
   },
   "outputs": [],
   "source": [
    "from sklearn.tree import export_graphviz\n",
    "from six import StringIO\n",
    "from IPython.display import Image  \n",
    "import pydotplus"
   ]
  },
  {
   "cell_type": "code",
   "execution_count": null,
   "metadata": {
    "execution": {
     "iopub.execute_input": "2021-06-28T15:12:15.109946Z",
     "iopub.status.busy": "2021-06-28T15:12:15.109365Z",
     "iopub.status.idle": "2021-06-28T15:13:22.31219Z",
     "shell.execute_reply": "2021-06-28T15:13:22.310853Z",
     "shell.execute_reply.started": "2021-06-28T15:12:15.109897Z"
    }
   },
   "outputs": [],
   "source": [
    "feat = ['LIMIT_BAL', 'SEX', 'EDUCATION', 'MARRIAGE', 'AGE', 'PAY_0', 'PAY_2',\n",
    "       'PAY_3', 'PAY_4', 'PAY_5', 'PAY_6', 'BILL_AMT1', 'BILL_AMT2',\n",
    "       'BILL_AMT3', 'BILL_AMT4', 'BILL_AMT5', 'BILL_AMT6', 'PAY_AMT1',\n",
    "       'PAY_AMT2', 'PAY_AMT3', 'PAY_AMT4', 'PAY_AMT5', 'PAY_AMT6']\n",
    "dot_data = StringIO()\n",
    "export_graphviz(dtree, out_file=dot_data,  \n",
    "                filled=True, rounded=True,\n",
    "                special_characters=True,feature_names = feat,class_names=['0','1'])\n",
    "graph = pydotplus.graph_from_dot_data(dot_data.getvalue())  \n",
    "graph.write_png('Credit_Card_Tree.png')\n",
    "Image(graph.create_png())"
   ]
  },
  {
   "cell_type": "markdown",
   "metadata": {},
   "source": [
    "Next, Decision Tree is used for this dataset. We \n",
    "have used 3 variants of models: 1st Full tree with \n",
    "normal test and train sets, 2nd Pruned tree with \n",
    "normal test and train sets, and 3rd Pruned tree \n",
    "with transformed (MinMaxScaler) train and test \n",
    "sets.\n",
    "1. Decision Tree (Unpruned) with normal test and train sets:\n",
    "* Accuracy: 73.34 %\n",
    "2. Decision Tree – which was pruned using max_depth for 1 to 20 range and used normal train and test sets here.\n",
    "* Accuracy: 83.04 %\n",
    "* max_depth: 4\n",
    "2. Decision Tree – which was pruned using max_depth for 1 to 20 range and this time using transformed (MinMaxScaler) train and test sets.\n",
    "* Accuracy: 83.06 %\n",
    "* max_depth: 3\n",
    "3. After plotting confusion matrix (Fig. 6) with transformed sets, we were able to get:\n",
    "* Accuracy: 57.21 % \n",
    "* Precision: 24.61 %\n",
    "* Recall: 47.10 %\n",
    "\n",
    "Shows ROC Curve and it can be observed that “Area Under the Curve” is 0.55. The ROC Curve can be used to compare with other models, it shows the area under the curve. We got not good results here, it is clearly visible in ROC that area under the curve is less."
   ]
  },
  {
   "cell_type": "markdown",
   "metadata": {},
   "source": [
    "# **4. Random Forest:**"
   ]
  },
  {
   "cell_type": "code",
   "execution_count": null,
   "metadata": {
    "execution": {
     "iopub.execute_input": "2021-06-28T15:16:30.338004Z",
     "iopub.status.busy": "2021-06-28T15:16:30.337632Z",
     "iopub.status.idle": "2021-06-28T15:16:30.372662Z",
     "shell.execute_reply": "2021-06-28T15:16:30.371727Z",
     "shell.execute_reply.started": "2021-06-28T15:16:30.337972Z"
    }
   },
   "outputs": [],
   "source": [
    "from sklearn.ensemble import RandomForestClassifier"
   ]
  },
  {
   "cell_type": "markdown",
   "metadata": {},
   "source": [
    "> ***Simple Random Forest with transformed data:***"
   ]
  },
  {
   "cell_type": "code",
   "execution_count": null,
   "metadata": {
    "execution": {
     "iopub.execute_input": "2021-06-28T15:16:57.456541Z",
     "iopub.status.busy": "2021-06-28T15:16:57.456152Z",
     "iopub.status.idle": "2021-06-28T15:17:04.09753Z",
     "shell.execute_reply": "2021-06-28T15:17:04.096425Z",
     "shell.execute_reply.started": "2021-06-28T15:16:57.45651Z"
    }
   },
   "outputs": [],
   "source": [
    "rf = RandomForestClassifier()\n",
    "rf.fit(xtrain_scaler, y_train)             # Fitting model with xtrain_scaler and y_train\n",
    "rf_pred = rf.predict(xtest_scaler)         # Predicting the results\n",
    "#est_per.append(metrics.accuracy_score(y_test, rf_pred))\n",
    "print(\"Accuracy: {0}\".format(metrics.accuracy_score(y_test, rf_pred)))"
   ]
  },
  {
   "cell_type": "markdown",
   "metadata": {},
   "source": [
    "> ***Hyperparameter Tuned Random Forest with transformed data:***"
   ]
  },
  {
   "cell_type": "code",
   "execution_count": null,
   "metadata": {
    "execution": {
     "iopub.execute_input": "2021-06-28T15:17:27.585484Z",
     "iopub.status.busy": "2021-06-28T15:17:27.584999Z",
     "iopub.status.idle": "2021-06-28T15:18:41.149527Z",
     "shell.execute_reply": "2021-06-28T15:18:41.148358Z",
     "shell.execute_reply.started": "2021-06-28T15:17:27.585448Z"
    }
   },
   "outputs": [],
   "source": [
    "estimators = [10,50,80,100,150,200,250,300]\n",
    "\n",
    "rf = RandomForestClassifier(max_depth=3,random_state=5)\n",
    "hyperParam = [{'n_estimators':estimators}]\n",
    "\n",
    "gsv = GridSearchCV(rf,hyperParam,cv=5,verbose=1)\n",
    "best_model = gsv.fit(xtrain_scaler, y_train)                       # Fitting model with xtrain_scaler and y_train\n",
    "rf_pred_mms = best_model.best_estimator_.predict(xtest_scaler)     # Predicting the results\n",
    "\n",
    "print(\"Best HyperParameter: \",gsv.best_params_)\n",
    "print(\"Best Accuracy :\",best_model.score(xtest_scaler, y_test))"
   ]
  },
  {
   "cell_type": "markdown",
   "metadata": {},
   "source": [
    "**Confusion Matrix of Hyperparameter Tuned Random Forest model with transformed data:**"
   ]
  },
  {
   "cell_type": "code",
   "execution_count": null,
   "metadata": {
    "execution": {
     "iopub.execute_input": "2021-06-28T15:20:43.966548Z",
     "iopub.status.busy": "2021-06-28T15:20:43.966161Z",
     "iopub.status.idle": "2021-06-28T15:20:44.193916Z",
     "shell.execute_reply": "2021-06-28T15:20:44.192926Z",
     "shell.execute_reply.started": "2021-06-28T15:20:43.966518Z"
    }
   },
   "outputs": [],
   "source": [
    "plot_confusion_matrix(gsv, xtest_scaler, y_test)\n",
    "\n",
    "conf_metr = confusion_matrix(y_test, rf_pred_mms)\n",
    "\n",
    "print(\"Confusion Matrix: \\n {}\".format(conf_metr))\n",
    "print(metrics.classification_report(y_test,rf_pred_mms))\n",
    "print(\"Accuracy:\",metrics.accuracy_score(y_test, rf_pred_mms))\n",
    "print(\"Recall/Sensitivity/True Positive Rate:\",metrics.recall_score(y_test, rf_pred_mms))\n",
    "print(\"Precision:\",metrics.precision_score(y_test, rf_pred_mms))"
   ]
  },
  {
   "cell_type": "code",
   "execution_count": null,
   "metadata": {
    "execution": {
     "iopub.execute_input": "2021-06-28T15:20:49.065731Z",
     "iopub.status.busy": "2021-06-28T15:20:49.065363Z",
     "iopub.status.idle": "2021-06-28T15:20:49.239072Z",
     "shell.execute_reply": "2021-06-28T15:20:49.238006Z",
     "shell.execute_reply.started": "2021-06-28T15:20:49.065702Z"
    }
   },
   "outputs": [],
   "source": [
    "# ROC Curve:\n",
    "metrics.plot_roc_curve(gsv, xtest_scaler, y_test)"
   ]
  },
  {
   "cell_type": "markdown",
   "metadata": {},
   "source": [
    "Next, we used Random Forest. We used two \n",
    "models of Random Forest for the dataset. Both \n",
    "times, we used transformed (MinMaxScaler) \n",
    "train and test sets. 1st model is Simple Random \n",
    "Forest and 2nd model is hyperparameter tuned \n",
    "Random Forest model.\n",
    "1. During our first simple model, we found results as:\n",
    "* Accuracy: 79.44 %\n",
    "2. For second model, we have used hyperparameter tuning, for this we changed max_depth to 3 (because we had got depth 3 for decision tree which showed best accuracy), random state = 5 and n_estimators values as[10,50,80,100,150,200,250,300]. This model is hyperparameter tuned using sklearn’s GridSearchCV.\n",
    "* Accuracy: 81.80 %\n",
    "* n_estimator: 10\n",
    "3. After plotting confusion matrix with transformed sets, we were able to get:\n",
    "* Accuracy: 81.80 % \n",
    "* Precision: 69.05 %\n",
    "* Recall: 25.44 %\n",
    "\n",
    "Shows ROC Curve and it can be observed that “Area Under the Curve” is 0.77. The ROC Curve can be used to compare with other models, it shows the area under the curve. Large values on Y-Axis demonstrates lower false negatives and higher true positives."
   ]
  },
  {
   "cell_type": "markdown",
   "metadata": {},
   "source": [
    "# **5. SVC (Support Vector Classifier):**"
   ]
  },
  {
   "cell_type": "code",
   "execution_count": null,
   "metadata": {
    "execution": {
     "iopub.execute_input": "2021-06-28T15:21:56.0913Z",
     "iopub.status.busy": "2021-06-28T15:21:56.090869Z",
     "iopub.status.idle": "2021-06-28T15:21:56.096053Z",
     "shell.execute_reply": "2021-06-28T15:21:56.094829Z",
     "shell.execute_reply.started": "2021-06-28T15:21:56.091263Z"
    }
   },
   "outputs": [],
   "source": [
    "from sklearn.svm import SVC"
   ]
  },
  {
   "cell_type": "markdown",
   "metadata": {},
   "source": [
    "> ***Tuned Model with transformed data:***"
   ]
  },
  {
   "cell_type": "code",
   "execution_count": null,
   "metadata": {
    "execution": {
     "iopub.execute_input": "2021-06-28T15:22:22.83259Z",
     "iopub.status.busy": "2021-06-28T15:22:22.83218Z",
     "iopub.status.idle": "2021-06-28T15:27:36.287329Z",
     "shell.execute_reply": "2021-06-28T15:27:36.286183Z",
     "shell.execute_reply.started": "2021-06-28T15:22:22.832557Z"
    }
   },
   "outputs": [],
   "source": [
    "kernels = ['rbf','linear','poly','sigmoid']\n",
    "\n",
    "svc = SVC()\n",
    "hyperParam = [{'kernel':kernels}]\n",
    "\n",
    "gsv = GridSearchCV(svc,hyperParam,cv=5,verbose=1)\n",
    "best_model = gsv.fit(xtrain_scaler, y_train)                       # Fitting model with xtrain_scaler and y_train\n",
    "svc_pred_mms = best_model.best_estimator_.predict(xtest_scaler)    # Predicting the results\n",
    "\n",
    "print(\"Best HyperParameter: \",gsv.best_params_)\n",
    "print(\"Best Accuracy :\",best_model.score(xtest_scaler, y_test))"
   ]
  },
  {
   "cell_type": "markdown",
   "metadata": {},
   "source": [
    "**Confusion Matrix Tuned Model with transformed data:**"
   ]
  },
  {
   "cell_type": "code",
   "execution_count": null,
   "metadata": {
    "execution": {
     "iopub.execute_input": "2021-06-28T15:27:46.831539Z",
     "iopub.status.busy": "2021-06-28T15:27:46.831137Z",
     "iopub.status.idle": "2021-06-28T15:27:49.416578Z",
     "shell.execute_reply": "2021-06-28T15:27:49.415448Z",
     "shell.execute_reply.started": "2021-06-28T15:27:46.831505Z"
    }
   },
   "outputs": [],
   "source": [
    "plot_confusion_matrix(gsv, xtest_scaler, y_test)\n",
    "\n",
    "conf_metr = confusion_matrix(y_test, svc_pred_mms)\n",
    "\n",
    "print(\"Confusion Matrix: \\n {}\".format(conf_metr))\n",
    "print(metrics.classification_report(y_test,svc_pred_mms))\n",
    "print(\"Accuracy:\",metrics.accuracy_score(y_test, svc_pred_mms))\n",
    "print(\"Recall/Sensitivity/True Positive Rate:\",metrics.recall_score(y_test, svc_pred_mms))\n",
    "print(\"Precision:\",metrics.precision_score(y_test, svc_pred_mms))"
   ]
  },
  {
   "cell_type": "code",
   "execution_count": null,
   "metadata": {
    "execution": {
     "iopub.execute_input": "2021-06-28T15:27:53.315559Z",
     "iopub.status.busy": "2021-06-28T15:27:53.315196Z",
     "iopub.status.idle": "2021-06-28T15:27:55.855509Z",
     "shell.execute_reply": "2021-06-28T15:27:55.854481Z",
     "shell.execute_reply.started": "2021-06-28T15:27:53.31553Z"
    }
   },
   "outputs": [],
   "source": [
    "# ROC Curve:\n",
    "metrics.plot_roc_curve(gsv, xtest_scaler, y_test)"
   ]
  },
  {
   "cell_type": "markdown",
   "metadata": {},
   "source": [
    "Next, we used Support Vector Machine for this dataset. This model is tuned using 4 kernel values [‘rbf’, ‘linear’, ‘poly’ and ‘sigmoid’].\n",
    "1. Used this model with transformed (MinMaxScaler) train and test sets.\n",
    "* Accuracy: 81.64 %\n",
    "* Kernel: poly\n",
    "2. After plotting confusion matrix with transformed sets, we were able to get:\n",
    "* Accuracy: 81.64 % \n",
    "* Precision: 69.71 %\n",
    "* Recall: 23.48 %\n",
    "\n",
    "Shows ROC Curve and it can be observed that the “Area Under the Curve” is 0.69. The ROC Curve which we can use to compare with other models, it shows the area under the curve. From the ROC curve, we can demonstrate that area under the curve is less.\n"
   ]
  },
  {
   "cell_type": "markdown",
   "metadata": {},
   "source": [
    "# **Bagging with all classifiers using Cross Validation:**"
   ]
  },
  {
   "cell_type": "code",
   "execution_count": null,
   "metadata": {
    "execution": {
     "iopub.execute_input": "2021-06-28T15:28:31.566461Z",
     "iopub.status.busy": "2021-06-28T15:28:31.566086Z",
     "iopub.status.idle": "2021-06-28T15:28:31.571242Z",
     "shell.execute_reply": "2021-06-28T15:28:31.570185Z",
     "shell.execute_reply.started": "2021-06-28T15:28:31.566429Z"
    }
   },
   "outputs": [],
   "source": [
    "from sklearn.model_selection import cross_val_score\n",
    "from sklearn.ensemble import BaggingClassifier\n",
    "from sklearn.ensemble import VotingClassifier"
   ]
  },
  {
   "cell_type": "code",
   "execution_count": null,
   "metadata": {
    "execution": {
     "iopub.execute_input": "2021-06-28T15:28:34.648071Z",
     "iopub.status.busy": "2021-06-28T15:28:34.647707Z",
     "iopub.status.idle": "2021-06-28T15:35:06.837436Z",
     "shell.execute_reply": "2021-06-28T15:35:06.836234Z",
     "shell.execute_reply.started": "2021-06-28T15:28:34.648028Z"
    }
   },
   "outputs": [],
   "source": [
    "# Creating classifiers\n",
    "knn = KNeighborsClassifier()\n",
    "lg = LogisticRegression()\n",
    "dt = DecisionTreeClassifier()\n",
    "rf = RandomForestClassifier()\n",
    "svc = SVC()\n",
    "\n",
    "clf_array = [knn, lg, dt, rf,svc]\n",
    "\n",
    "for clf in clf_array:\n",
    "    cc_scores = cross_val_score(clf, x, y, cv=10, n_jobs=-1)\n",
    "    bagging_clf = BaggingClassifier(clf, max_samples=0.25, max_features=10, random_state=3)\n",
    "    bagging_scores = cross_val_score(bagging_clf, x, y, cv=10, n_jobs=-1)\n",
    "    \n",
    "    print(\"Accuracy of: {1:.3f}, std: (+/-) {2:.3f} [{0}]\".format(clf.__class__.__name__,cc_scores.mean(), cc_scores.std()))\n",
    "    print(\"Accuracy of: {1:.3f}, std: (+/-) {2:.3f} [Bagging {0}]\\n\".format(clf.__class__.__name__,bagging_scores.mean(), bagging_scores.std()))"
   ]
  },
  {
   "cell_type": "code",
   "execution_count": null,
   "metadata": {
    "execution": {
     "iopub.execute_input": "2021-06-28T15:35:55.331857Z",
     "iopub.status.busy": "2021-06-28T15:35:55.331492Z",
     "iopub.status.idle": "2021-06-28T15:45:50.128046Z",
     "shell.execute_reply": "2021-06-28T15:45:50.126998Z",
     "shell.execute_reply.started": "2021-06-28T15:35:55.331825Z"
    }
   },
   "outputs": [],
   "source": [
    "clf = [knn, lg, dt, rf,svc]\n",
    "eclf = VotingClassifier(estimators=[('KNN', knn), ('Logistic Regression', lg), ('Decision Tree', dt), ('Random Forest', rf), ('SVC', svc)], voting='hard')\n",
    "for clf, label in zip([knn, lg, dt, rf,svc, eclf], ['KNN', 'Logistic Regression', 'Decision Tree', 'Random Forest', 'SVC', 'Ensemble']):\n",
    "    scores = cross_val_score(clf, x_train, y_train, cv=10, scoring='accuracy')\n",
    "    print(\"Accuracy: %0.3f (+/- %0.2f) [%s]\" % (scores.mean(), scores.std(), label))"
   ]
  },
  {
   "cell_type": "markdown",
   "metadata": {},
   "source": [
    "Next, we used the bagging method, and this will \n",
    "create all models using different data and a \n",
    "weighted average will be used to determine the \n",
    "result. We have used all 5 ML models (KNN, \n",
    "Logistic, Decision Tree, Random Forest and \n",
    "SVM). We hyperparameter BaggingClassifier \n",
    "with all 5 ML models, max_samples=0.25, \n",
    "max_features=10, random_state=3. For cross \n",
    "val score, parameters are passed like cv = 10 \n",
    "and n_jobs = -1. We can see from the below \n",
    "that for KNN, Logistic and Decision \n",
    "Tree, accuracy is increasing, and the standard \n",
    "deviation is decreasing for KNN, Decision Tree \n",
    "and Random Forest.\n",
    "To choose the best classifier, we will use \n",
    "Sklearn’s VotingClassifier, which will help us \n",
    "to combine different ML classifiers and will \n",
    "perform a vote on all classifiers.\n",
    "Shows results we can observe that \n",
    "RandomForest had the best accuracy 81.30 % \n",
    "with a very low standard deviation of 0.01.\n",
    "\n",
    "Note: Accuracy and Std deviation may change slightly after each run."
   ]
  },
  {
   "cell_type": "markdown",
   "metadata": {},
   "source": [
    "# **Boosting with all classifiers using Cross Validation:**"
   ]
  },
  {
   "cell_type": "code",
   "execution_count": null,
   "metadata": {
    "execution": {
     "iopub.execute_input": "2021-06-28T15:46:47.951617Z",
     "iopub.status.busy": "2021-06-28T15:46:47.951246Z",
     "iopub.status.idle": "2021-06-28T15:46:48.303105Z",
     "shell.execute_reply": "2021-06-28T15:46:48.302252Z",
     "shell.execute_reply.started": "2021-06-28T15:46:47.95158Z"
    }
   },
   "outputs": [],
   "source": [
    "from sklearn.ensemble import AdaBoostClassifier\n",
    "from sklearn.ensemble import GradientBoostingClassifier\n",
    "from xgboost import XGBClassifier\n",
    "from mlxtend.classifier import EnsembleVoteClassifier"
   ]
  },
  {
   "cell_type": "code",
   "execution_count": null,
   "metadata": {
    "execution": {
     "iopub.execute_input": "2021-06-28T15:47:03.594549Z",
     "iopub.status.busy": "2021-06-28T15:47:03.594151Z",
     "iopub.status.idle": "2021-06-28T15:52:28.68683Z",
     "shell.execute_reply": "2021-06-28T15:52:28.685972Z",
     "shell.execute_reply.started": "2021-06-28T15:47:03.594513Z"
    }
   },
   "outputs": [],
   "source": [
    "# Creating classifiers\n",
    "knn = KNeighborsClassifier()\n",
    "lg = LogisticRegression()\n",
    "dt = DecisionTreeClassifier()\n",
    "rf = RandomForestClassifier()\n",
    "svc = SVC()\n",
    "ada_boost = AdaBoostClassifier()\n",
    "grad_boost = GradientBoostingClassifier()\n",
    "xgb_boost = XGBClassifier()\n",
    "boost_array = [ada_boost, grad_boost, xgb_boost]\n",
    "clf = [knn, lg, dt, rf,svc]\n",
    "eclf = EnsembleVoteClassifier(clfs=[ada_boost, grad_boost, xgb_boost], voting='hard')\n",
    "labels = ['Ada Boost', 'Grad Boost', 'XG Boost', 'Ensemble']\n",
    "for clf, label in zip([ada_boost, grad_boost, xgb_boost, eclf], labels):\n",
    "    scores = cross_val_score(clf, x, y, cv=10, scoring='accuracy')\n",
    "    print(\"Accuracy: {0:.3f}, std: (+/-) {1:.3f} [{2}]\".format(scores.mean(), scores.std(), label))"
   ]
  },
  {
   "cell_type": "markdown",
   "metadata": {},
   "source": [
    "Lastly, we used boosting technique. This \n",
    "boosting is not random, and the current \n",
    "performance of the model will depend on \n",
    "previous models. We used Ada Boost \n",
    "Classifier, Gradient Boosting Classifier and XG \n",
    "Boost Classifier. We have used all 5 ML \n",
    "models (KNN, Logistic, Decision Tree, \n",
    "Random Forest and SVM). We \n",
    "hyperparametered cross val score with all 5 ML \n",
    "models, cv = 10 and scoring = ‘accuracy’. We \n",
    "also tuned ‘EnsembleVoteClassifier’ with voting = ‘hard’ and for all 3 boosters Ada boost, \n",
    "Gradient boost and XG Boost.\n",
    "To choose the best classifier, we will use \n",
    "Sklearn’s VotingClassifier, which will help us \n",
    "to combine different ML classifiers and will \n",
    "perform a vote on all classifiers.\n",
    "According to the results, Gradient boost came \n",
    "out to be best with 82.10 % accuracy and 0.011 \n",
    "standard deviation.\n",
    "\n",
    "Note: Accuracy and Std deviation may change slightly after each run."
   ]
  },
  {
   "cell_type": "markdown",
   "metadata": {},
   "source": [
    "# **Conclusion:**\n",
    "The first dataset is the Credit Card dataset, \n",
    "where we had records from Taiwan from April 2005 to September 2005. This dataset was \n",
    "highly imbalanced and needed resampling or \n",
    "transformation. We used MinMaxScaler to \n",
    "transform our train and test data. After applying \n",
    "5 machine learning models with normal data \n",
    "and transformed data, it can be easily observed \n",
    "that the performance of all models was good \n",
    "with transformed train and test data. KNN, \n",
    "Logistic Regression and RandomForest gave \n",
    "the best accuracy around 82 %. Logistic \n",
    "Regression was best with 82.68 % accuracy, \n",
    "recall 84.27 % and 95.92 % recall. After \n",
    "applying bagging, it was observed that \n",
    "RandomForest came out to be the best with \n",
    "81.30 % accuracy and a very low 0.01 standard \n",
    "deviation. In last, we used boosting for all 5 \n",
    "machine learning models and applied Ada \n",
    "boost, Gradient boost and XG boost. Out of \n",
    "these 3. Grad boost performed best when both \n",
    "accuracy and standard deviation were \n",
    "compared with other boosting methods. For \n",
    "Grad boost, we got 82.10 % accuracy and 0.011 \n",
    "standard deviation.\n",
    "\n",
    "Note: Accuracy and Std deviation may change slightly after each run."
   ]
  },
  {
   "cell_type": "code",
   "execution_count": null,
   "metadata": {},
   "outputs": [],
   "source": []
  }
 ],
 "metadata": {
  "kernelspec": {
   "display_name": "Python 3",
   "language": "python",
   "name": "python3"
  },
  "language_info": {
   "codemirror_mode": {
    "name": "ipython",
    "version": 3
   },
   "file_extension": ".py",
   "mimetype": "text/x-python",
   "name": "python",
   "nbconvert_exporter": "python",
   "pygments_lexer": "ipython3",
   "version": "3.8.5"
  }
 },
 "nbformat": 4,
 "nbformat_minor": 4
}
